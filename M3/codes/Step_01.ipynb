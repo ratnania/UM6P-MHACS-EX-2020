{
 "cells": [
  {
   "cell_type": "markdown",
   "metadata": {},
   "source": [
    "# Native DataTypes\n",
    "\n",
    "In Python, every value has a datatype, but you don’t need to declare the datatype of variables. How does that work? Based on each variable’s original assignment, Python figures out what type it is and keeps tracks of that internally.\n",
    "\n",
    "Python has many native datatypes. Here are the important ones:\n",
    "\n",
    "1. Booleans are either True or False.\n",
    "2. Numbers can be integers (1 and 2), floats (1.1 and 1.2), fractions (1/2 and 2/3), or even complex numbers.\n",
    "3. Strings are sequences of Unicode characters, e.g. an html document.\n",
    "4. Bytes and byte arrays, e.g. a jpeg image file.\n",
    "5. Lists are ordered sequences of values.\n",
    "6. Tuples are ordered, immutable sequences of values.\n",
    "7. Sets are unordered bags of values.\n",
    "8. Dictionaries are unordered bags of key-value pairs.\n",
    "\n",
    "Of course, there are more types than these. Everything is an object in Python, so there are types like module, function, class, method, file, and even compiled code. You’ve already seen some of these: modules have names, functions have docstrings, &c. You’ll learn about classes in Classes & Iterators, and about files in Files.\n",
    "\n",
    "Strings and bytes are important enough — and complicated enough — that they get their own chapter. Let’s look at the others first."
   ]
  },
  {
   "cell_type": "markdown",
   "metadata": {},
   "source": [
    "## Booleans\n",
    "\n",
    "Booleans are either true or false. Python has two constants, cleverly named True and False, which can be used to assign boolean values directly. Expressions can also evaluate to a boolean value. In certain places (like if statements), Python expects an expression to evaluate to a boolean value. These places are called boolean contexts. You can use virtually any expression in a boolean context, and Python will try to determine its truth value. Different datatypes have different rules about which values are true or false in a boolean context. (This will make more sense once you see some concrete examples later in this chapter.)\n",
    "\n",
    "Let's take the following assignment:"
   ]
  },
  {
   "cell_type": "code",
   "execution_count": 2,
   "metadata": {},
   "outputs": [],
   "source": [
    "size = 1"
   ]
  },
  {
   "cell_type": "markdown",
   "metadata": {},
   "source": [
    "**size** is an integer, 0 is an integer, and < is a numerical operator. The result of the expression **size < 0** is always a boolean. You can test this yourself in the Python interactive shell:"
   ]
  },
  {
   "cell_type": "code",
   "execution_count": 8,
   "metadata": {},
   "outputs": [
    {
     "data": {
      "text/plain": [
       "False"
      ]
     },
     "execution_count": 8,
     "metadata": {},
     "output_type": "execute_result"
    }
   ],
   "source": [
    "size < 0"
   ]
  },
  {
   "cell_type": "code",
   "execution_count": 9,
   "metadata": {},
   "outputs": [
    {
     "data": {
      "text/plain": [
       "False"
      ]
     },
     "execution_count": 9,
     "metadata": {},
     "output_type": "execute_result"
    }
   ],
   "source": [
    "size = 0\n",
    "size < 0"
   ]
  },
  {
   "cell_type": "code",
   "execution_count": 10,
   "metadata": {},
   "outputs": [
    {
     "data": {
      "text/plain": [
       "True"
      ]
     },
     "execution_count": 10,
     "metadata": {},
     "output_type": "execute_result"
    }
   ],
   "source": [
    "size = -1\n",
    "size < 0"
   ]
  },
  {
   "cell_type": "markdown",
   "metadata": {},
   "source": [
    "Due to some legacy issues left over from Python 2, booleans can be treated as numbers. True is 1; False is 0.\n",
    "\n",
    "```python\n",
    ">>> True + True\n",
    "2\n",
    ">>> True - False\n",
    "1\n",
    ">>> True * False\n",
    "0\n",
    ">>> True / False\n",
    "Traceback (most recent call last):\n",
    "  File \"<stdin>\", line 1, in <module>\n",
    "ZeroDivisionError: int division or modulo by zero\n",
    "```\n",
    "\n",
    "**Don’t do that**. Forget I even mentioned it."
   ]
  },
  {
   "cell_type": "markdown",
   "metadata": {},
   "source": [
    "## Numbers\n",
    "\n",
    "Numbers are awesome. There are so many to choose from. Python supports both integers and floating point numbers. There’s no type declaration to distinguish them; Python tells them apart by the presence or absence of a decimal point."
   ]
  },
  {
   "cell_type": "code",
   "execution_count": 11,
   "metadata": {},
   "outputs": [
    {
     "data": {
      "text/plain": [
       "int"
      ]
     },
     "execution_count": 11,
     "metadata": {},
     "output_type": "execute_result"
    }
   ],
   "source": [
    "type(1)"
   ]
  },
  {
   "cell_type": "code",
   "execution_count": 6,
   "metadata": {},
   "outputs": [
    {
     "data": {
      "text/plain": [
       "True"
      ]
     },
     "execution_count": 6,
     "metadata": {},
     "output_type": "execute_result"
    }
   ],
   "source": [
    "isinstance(1, int)"
   ]
  },
  {
   "cell_type": "code",
   "execution_count": 7,
   "metadata": {},
   "outputs": [
    {
     "data": {
      "text/plain": [
       "2"
      ]
     },
     "execution_count": 7,
     "metadata": {},
     "output_type": "execute_result"
    }
   ],
   "source": [
    "1+1"
   ]
  },
  {
   "cell_type": "code",
   "execution_count": 8,
   "metadata": {},
   "outputs": [
    {
     "data": {
      "text/plain": [
       "2.0"
      ]
     },
     "execution_count": 8,
     "metadata": {},
     "output_type": "execute_result"
    }
   ],
   "source": [
    "1+1."
   ]
  },
  {
   "cell_type": "markdown",
   "metadata": {},
   "source": [
    "**What's happening?**"
   ]
  },
  {
   "cell_type": "code",
   "execution_count": 9,
   "metadata": {},
   "outputs": [
    {
     "data": {
      "text/plain": [
       "float"
      ]
     },
     "execution_count": 9,
     "metadata": {},
     "output_type": "execute_result"
    }
   ],
   "source": [
    "type(2.)"
   ]
  },
  {
   "cell_type": "markdown",
   "metadata": {},
   "source": [
    "Some explanations:\n",
    "\n",
    "```python\n",
    ">>> type(1) ①\n",
    "<class 'int'>\n",
    ">>> isinstance(1, int) ②\n",
    "True\n",
    ">>> 1 + 1 ③\n",
    "2\n",
    ">>> 1 + 1.0 ④\n",
    "2.0\n",
    ">>> type(2.0)\n",
    "<class 'float'>\n",
    "```\n",
    "\n",
    "①\tYou can use the **type()** function to check the type of any value or variable. As you might expect, 1 is an **int**.\n",
    "\n",
    "②\tSimilarly, you can use the **isinstance()** function to check whether a value or variable is of a given type.\n",
    "\n",
    "③\tAdding an **int** to an **int** yields an **int**.\n",
    "\n",
    "④\tAdding an **int** to a **float** yields a **float**. Python coerces the **int** into a float to perform the addition, then returns a **float** as the result."
   ]
  },
  {
   "cell_type": "markdown",
   "metadata": {},
   "source": [
    "### Coercing Integers To Float And Vice-Versa\n",
    "\n",
    "As you just saw, some operators (like addition) will coerce integers to floating point numbers as needed. You can also coerce them by yourself.\n",
    "\n",
    "skip over this code listing\n",
    "\n",
    "```python\n",
    ">>> float(2) ①\n",
    "2.0\n",
    ">>> int(2.0) ②\n",
    "2\n",
    ">>> int(2.5) ③\n",
    "2\n",
    ">>> int(-2.5) ④\n",
    "-2\n",
    ">>> 1.12345678901234567890 ⑤\n",
    "1.1234567890123457\n",
    ">>> type(1000000000000000) ⑥\n",
    "<class 'int'>\n",
    "```\n",
    "\n",
    "①\tYou can explicitly coerce an **int** to a **float** by calling the **float()** function.\n",
    "\n",
    "②\tUnsurprisingly, you can also coerce a **float** to an **int** by calling **int()**.\n",
    "\n",
    "③\tThe **int()** function will truncate, not round.\n",
    "\n",
    "④\tThe **int()** function truncates negative numbers towards 0. It’s a true truncate function, not a floor function.\n",
    "\n",
    "⑤\tFloating point numbers are accurate to 15 decimal places.\n",
    "\n",
    "⑥\tIntegers can be arbitrarily large.\n",
    "\n",
    "> Python 2 had separate types for int and long. The int datatype was limited by sys.maxint, which varied by platform but was usually 232-1. \n",
    "Python 3 has just one integer type, which behaves mostly like the old long type from Python 2. See pep 237 for details."
   ]
  },
  {
   "cell_type": "code",
   "execution_count": 12,
   "metadata": {},
   "outputs": [
    {
     "data": {
      "text/plain": [
       "2.0"
      ]
     },
     "execution_count": 12,
     "metadata": {},
     "output_type": "execute_result"
    }
   ],
   "source": [
    "float(2)"
   ]
  },
  {
   "cell_type": "code",
   "execution_count": 13,
   "metadata": {},
   "outputs": [
    {
     "data": {
      "text/plain": [
       "'float(x) -> floating point number\\n\\nConvert a string or number to a floating point number, if possible.'"
      ]
     },
     "execution_count": 13,
     "metadata": {},
     "output_type": "execute_result"
    }
   ],
   "source": [
    "float.__doc__"
   ]
  },
  {
   "cell_type": "code",
   "execution_count": null,
   "metadata": {},
   "outputs": [],
   "source": []
  },
  {
   "cell_type": "code",
   "execution_count": null,
   "metadata": {},
   "outputs": [],
   "source": []
  },
  {
   "cell_type": "markdown",
   "metadata": {},
   "source": [
    "### Common Numerical Operations\n",
    "\n",
    "| Symbol | Task Performed |\n",
    "|----|---|\n",
    "| == | True, if it is equal |\n",
    "| !=  | True, if not equal to |\n",
    "| < | less than |\n",
    "| > | greater than |\n",
    "| <=  | less than or equal to |\n",
    "| >=  | greater than or equal to |\n",
    "\n",
    "You can do all kinds of things with numbers:\n",
    "\n",
    "```python\n",
    ">>> 11 / 2 ①\n",
    "5.5\n",
    ">>> 11 // 2 ②\n",
    "5\n",
    ">>> −11 // 2 ③\n",
    "−6\n",
    ">>> 11.0 // 2 ④\n",
    "5.0\n",
    ">>> 11 ** 2 ⑤\n",
    "121\n",
    ">>> 11 % 2 ⑥\n",
    "1\n",
    "```\n",
    "\n",
    "①\tThe **/** operator performs floating point division. It returns a **float** even if both the numerator and denominator are ints.\n",
    "\n",
    "②\tThe **//** operator performs a quirky kind of integer division. When the result is positive, you can think of it as truncating (not rounding) to 0 decimal places, but be careful with that.\n",
    "\n",
    "③\tWhen integer-dividing negative numbers, the **//** operator rounds “up” to the nearest integer. Mathematically speaking, it’s rounding “down” since −6 is less than −5, but it could trip you up if you were expecting it to truncate to −5.\n",
    "\n",
    "④\tThe **//** operator doesn’t always return an integer. If either the numerator or denominator is a **float**, it will still round to the nearest integer, but the actual return value will be a **float**.\n",
    "\n",
    "⑤\tThe ****** operator means “raised to the power of.” 112 is 121.\n",
    "\n",
    "⑥\tThe **%** operator gives the remainder after performing integer division. 11 divided by 2 is 5 with a remainder of 1, so the result here is 1.\n",
    "\n",
    "> In Python 2, the / operator usually meant integer division, but you could make it behave like floating point division by including a special directive in your code. In Python 3, the / operator always means floating point division. See pep 238 for details."
   ]
  },
  {
   "cell_type": "code",
   "execution_count": 14,
   "metadata": {},
   "outputs": [
    {
     "data": {
      "text/plain": [
       "121"
      ]
     },
     "execution_count": 14,
     "metadata": {},
     "output_type": "execute_result"
    }
   ],
   "source": [
    "11**2"
   ]
  },
  {
   "cell_type": "code",
   "execution_count": 15,
   "metadata": {},
   "outputs": [
    {
     "data": {
      "text/plain": [
       "121"
      ]
     },
     "execution_count": 15,
     "metadata": {},
     "output_type": "execute_result"
    }
   ],
   "source": [
    "pow(11,2)"
   ]
  },
  {
   "cell_type": "code",
   "execution_count": 16,
   "metadata": {},
   "outputs": [],
   "source": [
    "import fractions"
   ]
  },
  {
   "cell_type": "code",
   "execution_count": 17,
   "metadata": {},
   "outputs": [],
   "source": [
    "x = fractions.Fraction(2,3)"
   ]
  },
  {
   "cell_type": "code",
   "execution_count": 19,
   "metadata": {},
   "outputs": [],
   "source": [
    "y = fractions.Fraction(1,6)"
   ]
  },
  {
   "cell_type": "code",
   "execution_count": 21,
   "metadata": {},
   "outputs": [
    {
     "data": {
      "text/plain": [
       "0.8333333333333334"
      ]
     },
     "execution_count": 21,
     "metadata": {},
     "output_type": "execute_result"
    }
   ],
   "source": [
    "float(x+y)"
   ]
  },
  {
   "cell_type": "markdown",
   "metadata": {},
   "source": [
    "### Fractions\n",
    "\n",
    "Python isn’t limited to integers and floating point numbers. It can also do all the fancy math you learned in high school and promptly forgot about.\n",
    "\n",
    "skip over this code listing\n",
    "\n",
    "```python\n",
    ">>> import fractions ①\n",
    ">>> x = fractions.Fraction(1, 3) ②\n",
    ">>> x\n",
    "Fraction(1, 3)\n",
    ">>> x * 2 ③\n",
    "Fraction(2, 3)\n",
    ">>> fractions.Fraction(6, 4) ④\n",
    "Fraction(3, 2)\n",
    ">>> fractions.Fraction(0, 0) ⑤\n",
    "Traceback (most recent call last):\n",
    "  File \"<stdin>\", line 1, in <module>\n",
    "  File \"fractions.py\", line 96, in __new__\n",
    "    raise ZeroDivisionError('Fraction(%s, 0)' % numerator)\n",
    "ZeroDivisionError: Fraction(0, 0)\n",
    "```\n",
    "\n",
    "①\tTo start using fractions, import the fractions module.\n",
    "\n",
    "②\tTo define a fraction, create a Fraction object and pass in the numerator and denominator.\n",
    "\n",
    "③\tYou can perform all the usual mathematical operations with fractions. Operations return a new Fraction object. 2 * (1/3) = (2/3)\n",
    "\n",
    "④\tThe Fraction object will automatically reduce fractions. (6/4) = (3/2)\n",
    "\n",
    "⑤\tPython has the good sense not to create a fraction with a zero denominator."
   ]
  },
  {
   "cell_type": "markdown",
   "metadata": {},
   "source": [
    "### Trigonometry\n",
    "\n",
    "You can also do basic trigonometry in Python.\n",
    "\n",
    "skip over this code listing\n",
    "\n",
    "```python\n",
    ">>> import math\n",
    ">>> math.pi ①\n",
    "3.1415926535897931\n",
    ">>> math.sin(math.pi / 2) ②\n",
    "1.0\n",
    ">>> math.tan(math.pi / 4) ③\n",
    "0.99999999999999989\n",
    "```\n",
    "\n",
    "①\tThe math module has a constant for π, the ratio of a circle’s circumference to its diameter.\n",
    "\n",
    "②\tThe math module has all the basic trigonometric functions, including sin(), cos(), tan(), and variants like asin().\n",
    "\n",
    "③\tNote, however, that Python does not have infinite precision. tan(π / 4) should return 1.0, not 0.99999999999999989."
   ]
  },
  {
   "cell_type": "code",
   "execution_count": 22,
   "metadata": {},
   "outputs": [],
   "source": [
    "import math"
   ]
  },
  {
   "cell_type": "code",
   "execution_count": 23,
   "metadata": {},
   "outputs": [
    {
     "data": {
      "text/plain": [
       "3.141592653589793"
      ]
     },
     "execution_count": 23,
     "metadata": {},
     "output_type": "execute_result"
    }
   ],
   "source": [
    "math.pi"
   ]
  },
  {
   "cell_type": "code",
   "execution_count": 24,
   "metadata": {},
   "outputs": [
    {
     "data": {
      "text/plain": [
       "0.8660254037844386"
      ]
     },
     "execution_count": 24,
     "metadata": {},
     "output_type": "execute_result"
    }
   ],
   "source": [
    "math.sin(math.pi/3)"
   ]
  },
  {
   "cell_type": "code",
   "execution_count": 25,
   "metadata": {},
   "outputs": [
    {
     "data": {
      "text/plain": [
       "0.6931471805599453"
      ]
     },
     "execution_count": 25,
     "metadata": {},
     "output_type": "execute_result"
    }
   ],
   "source": [
    "math.log(2.)"
   ]
  },
  {
   "cell_type": "code",
   "execution_count": 33,
   "metadata": {},
   "outputs": [],
   "source": [
    "def is_it_true(anything):\n",
    "    #assert(isinstance(anything, bool))\n",
    "    if not isinstance(anything, bool):\n",
    "        raise TypeError('anything must be Boolean')\n",
    "    \n",
    "    return bool"
   ]
  },
  {
   "cell_type": "code",
   "execution_count": 34,
   "metadata": {},
   "outputs": [
    {
     "ename": "TypeError",
     "evalue": "anything must be Boolean",
     "output_type": "error",
     "traceback": [
      "\u001b[0;31m---------------------------------------------------------------------------\u001b[0m",
      "\u001b[0;31mTypeError\u001b[0m                                 Traceback (most recent call last)",
      "\u001b[0;32m<ipython-input-34-757d73b5e8a7>\u001b[0m in \u001b[0;36m<module>\u001b[0;34m\u001b[0m\n\u001b[0;32m----> 1\u001b[0;31m \u001b[0mis_it_true\u001b[0m\u001b[0;34m(\u001b[0m\u001b[0;36m1\u001b[0m\u001b[0;34m)\u001b[0m\u001b[0;34m\u001b[0m\u001b[0;34m\u001b[0m\u001b[0m\n\u001b[0m",
      "\u001b[0;32m<ipython-input-33-3a0ce6bb64d1>\u001b[0m in \u001b[0;36mis_it_true\u001b[0;34m(anything)\u001b[0m\n\u001b[1;32m      2\u001b[0m     \u001b[0;31m#assert(isinstance(anything, bool))\u001b[0m\u001b[0;34m\u001b[0m\u001b[0;34m\u001b[0m\u001b[0;34m\u001b[0m\u001b[0m\n\u001b[1;32m      3\u001b[0m     \u001b[0;32mif\u001b[0m \u001b[0;32mnot\u001b[0m \u001b[0misinstance\u001b[0m\u001b[0;34m(\u001b[0m\u001b[0manything\u001b[0m\u001b[0;34m,\u001b[0m \u001b[0mbool\u001b[0m\u001b[0;34m)\u001b[0m\u001b[0;34m:\u001b[0m\u001b[0;34m\u001b[0m\u001b[0;34m\u001b[0m\u001b[0m\n\u001b[0;32m----> 4\u001b[0;31m         \u001b[0;32mraise\u001b[0m \u001b[0mTypeError\u001b[0m\u001b[0;34m(\u001b[0m\u001b[0;34m'anything must be Boolean'\u001b[0m\u001b[0;34m)\u001b[0m\u001b[0;34m\u001b[0m\u001b[0;34m\u001b[0m\u001b[0m\n\u001b[0m\u001b[1;32m      5\u001b[0m \u001b[0;34m\u001b[0m\u001b[0m\n\u001b[1;32m      6\u001b[0m     \u001b[0;32mreturn\u001b[0m \u001b[0mbool\u001b[0m\u001b[0;34m\u001b[0m\u001b[0;34m\u001b[0m\u001b[0m\n",
      "\u001b[0;31mTypeError\u001b[0m: anything must be Boolean"
     ]
    }
   ],
   "source": [
    "is_it_true(1)"
   ]
  },
  {
   "cell_type": "markdown",
   "metadata": {},
   "source": [
    "### Numbers In a Boolean Context\n",
    "\n",
    "You can use numbers in a boolean context, such as an if statement. Zero values are false, and non-zero values are true.\n",
    "\n",
    "skip over this code listing\n",
    "\n",
    "```python\n",
    ">>> def is_it_true(anything): ①\n",
    "...   if anything:\n",
    "...     print(\"yes, it's true\")\n",
    "...   else:\n",
    "...     print(\"no, it's false\")\n",
    "...\n",
    ">>> is_it_true(1) ②\n",
    "yes, it's true\n",
    ">>> is_it_true(-1)\n",
    "yes, it's true\n",
    ">>> is_it_true(0)\n",
    "no, it's false\n",
    ">>> is_it_true(0.1) ③\n",
    "yes, it's true\n",
    ">>> is_it_true(0.0)\n",
    "no, it's false\n",
    ">>> import fractions\n",
    ">>> is_it_true(fractions.Fraction(1, 2)) ④\n",
    "yes, it's true\n",
    ">>> is_it_true(fractions.Fraction(0, 1))\n",
    "no, it's false\n",
    "```\n",
    "\n",
    "①\tDid you know you can define your own functions in the Python interactive shell? Just press ENTER at the end of each line, and ENTER on a blank line to finish.\n",
    "\n",
    "②\tIn a boolean context, non-zero integers are true; 0 is false.\n",
    "\n",
    "③\tNon-zero floating point numbers are true; 0.0 is false. Be careful with this one! If there’s the slightest rounding error (not impossible, as you saw in the previous section) then Python will be testing 0.0000000000001 instead of 0 and will return True.\n",
    "\n",
    "④\tFractions can also be used in a boolean context. Fraction(0, n) is false for all values of n. All other fractions are true."
   ]
  },
  {
   "cell_type": "markdown",
   "metadata": {},
   "source": [
    "## Lists\n",
    "\n",
    "Lists are Python’s workhorse datatype. When I say “list,” you might be thinking “array whose size I have to declare in advance, that can only contain items of the same type, &c.” Don’t think that. Lists are much cooler than that.\n",
    "\n",
    "> A list in Python is like an array in Perl 5. In Perl 5, variables that store arrays always start with the @ character; in Python, variables can be named anything, and Python keeps track of the datatype internally.\n",
    "\n",
    "> A list in Python is much more than an array in Java (although it can be used as one if that’s really all you want out of life). A better analogy would be to the ArrayList class, which can hold arbitrary objects and can expand dynamically as new items are added."
   ]
  },
  {
   "cell_type": "markdown",
   "metadata": {},
   "source": [
    "## Creating a List\n",
    "\n",
    "Creating a list is easy: use square brackets to wrap a comma-separated list of values.\n",
    "\n",
    "skip over this code listing\n",
    "\n",
    "```python\n",
    ">>> xs = ['a', 'b', 'mpilgrim', 'z', 'example'] ①\n",
    ">>> xs\n",
    "['a', 'b', 'mpilgrim', 'z', 'example']\n",
    ">>> xs[0] ②\n",
    "'a'\n",
    ">>> xs[4] ③\n",
    "'example'\n",
    ">>> xs[-1] ④\n",
    "'example'\n",
    ">>> xs[-3] ⑤\n",
    "'mpilgrim'\n",
    "```\n",
    "\n",
    "①\tFirst, you define a list of five items. Note that they retain their original order. This is not an accident. A list is an ordered set of items.\n",
    "\n",
    "②\tA list can be used like a zero-based array. The first item of any non-empty list is always xs[0].\n",
    "\n",
    "③\tThe last item of this five-item list is xs[4], because lists are always zero-based.\n",
    "\n",
    "④\tA negative index accesses items from the end of the list counting backwards. The last item of any non-empty list is always xs[-1].\n",
    "\n",
    "⑤\tIf the negative index is confusing to you, think of it this way: xs[-n] == xs[len(xs) - n]. So in this list, xs[-3] == xs[5 - 3] == xs[2]."
   ]
  },
  {
   "cell_type": "code",
   "execution_count": 35,
   "metadata": {},
   "outputs": [],
   "source": [
    "xs = ['a', 'b', 'mpilgrim', 'z', 'example']"
   ]
  },
  {
   "cell_type": "code",
   "execution_count": 36,
   "metadata": {},
   "outputs": [
    {
     "name": "stdout",
     "output_type": "stream",
     "text": [
      "a\n",
      "b\n",
      "mpilgrim\n",
      "z\n",
      "example\n"
     ]
    }
   ],
   "source": [
    "for x in xs:\n",
    "    print(x)"
   ]
  },
  {
   "cell_type": "code",
   "execution_count": 37,
   "metadata": {},
   "outputs": [],
   "source": [
    "xs = []"
   ]
  },
  {
   "cell_type": "code",
   "execution_count": 38,
   "metadata": {},
   "outputs": [],
   "source": [
    "xs = list()"
   ]
  },
  {
   "cell_type": "code",
   "execution_count": 42,
   "metadata": {},
   "outputs": [],
   "source": [
    "xs.append('a')"
   ]
  },
  {
   "cell_type": "code",
   "execution_count": 43,
   "metadata": {},
   "outputs": [],
   "source": [
    "xs.append('b')"
   ]
  },
  {
   "cell_type": "code",
   "execution_count": 44,
   "metadata": {},
   "outputs": [
    {
     "data": {
      "text/plain": [
       "['a', 'a', 'a', 'b']"
      ]
     },
     "execution_count": 44,
     "metadata": {},
     "output_type": "execute_result"
    }
   ],
   "source": [
    "xs"
   ]
  },
  {
   "cell_type": "code",
   "execution_count": 45,
   "metadata": {},
   "outputs": [
    {
     "data": {
      "text/plain": [
       "'a'"
      ]
     },
     "execution_count": 45,
     "metadata": {},
     "output_type": "execute_result"
    }
   ],
   "source": [
    "xs[0]"
   ]
  },
  {
   "cell_type": "code",
   "execution_count": 46,
   "metadata": {},
   "outputs": [],
   "source": [
    "xs.insert(2, '8')"
   ]
  },
  {
   "cell_type": "code",
   "execution_count": 47,
   "metadata": {},
   "outputs": [
    {
     "data": {
      "text/plain": [
       "['a', 'a', '8', 'a', 'b']"
      ]
     },
     "execution_count": 47,
     "metadata": {},
     "output_type": "execute_result"
    }
   ],
   "source": [
    "xs"
   ]
  },
  {
   "cell_type": "code",
   "execution_count": 50,
   "metadata": {},
   "outputs": [],
   "source": [
    "r = xs.pop()"
   ]
  },
  {
   "cell_type": "code",
   "execution_count": 52,
   "metadata": {},
   "outputs": [
    {
     "data": {
      "text/plain": [
       "['a', 'a', '8']"
      ]
     },
     "execution_count": 52,
     "metadata": {},
     "output_type": "execute_result"
    }
   ],
   "source": [
    "xs "
   ]
  },
  {
   "cell_type": "code",
   "execution_count": 51,
   "metadata": {},
   "outputs": [
    {
     "name": "stdout",
     "output_type": "stream",
     "text": [
      "a\n"
     ]
    }
   ],
   "source": [
    "print(r)"
   ]
  },
  {
   "cell_type": "code",
   "execution_count": 54,
   "metadata": {},
   "outputs": [
    {
     "data": {
      "text/plain": [
       "0"
      ]
     },
     "execution_count": 54,
     "metadata": {},
     "output_type": "execute_result"
    }
   ],
   "source": [
    "xs.index('a')"
   ]
  },
  {
   "cell_type": "code",
   "execution_count": 55,
   "metadata": {},
   "outputs": [],
   "source": [
    "xs = ['a', 'a', 'b', 'a', 'c', 'd', 'e', 'a', 'f']"
   ]
  },
  {
   "cell_type": "code",
   "execution_count": 58,
   "metadata": {},
   "outputs": [],
   "source": [
    "indices = []\n",
    "for i,x in enumerate(xs):\n",
    "    if x == 'a': \n",
    "        indices.append(i)"
   ]
  },
  {
   "cell_type": "code",
   "execution_count": 59,
   "metadata": {},
   "outputs": [
    {
     "data": {
      "text/plain": [
       "[0, 1, 3, 7]"
      ]
     },
     "execution_count": 59,
     "metadata": {},
     "output_type": "execute_result"
    }
   ],
   "source": [
    "indices"
   ]
  },
  {
   "cell_type": "code",
   "execution_count": 60,
   "metadata": {},
   "outputs": [],
   "source": [
    "indices = [i for i,x in enumerate(xs) if x == 'a']"
   ]
  },
  {
   "cell_type": "code",
   "execution_count": 61,
   "metadata": {},
   "outputs": [
    {
     "data": {
      "text/plain": [
       "[0, 1, 3, 7]"
      ]
     },
     "execution_count": 61,
     "metadata": {},
     "output_type": "execute_result"
    }
   ],
   "source": [
    "indices"
   ]
  },
  {
   "cell_type": "code",
   "execution_count": 62,
   "metadata": {},
   "outputs": [
    {
     "data": {
      "text/plain": [
       "'a'"
      ]
     },
     "execution_count": 62,
     "metadata": {},
     "output_type": "execute_result"
    }
   ],
   "source": [
    "xs[0]"
   ]
  },
  {
   "cell_type": "code",
   "execution_count": 63,
   "metadata": {},
   "outputs": [
    {
     "data": {
      "text/plain": [
       "'f'"
      ]
     },
     "execution_count": 63,
     "metadata": {},
     "output_type": "execute_result"
    }
   ],
   "source": [
    "xs[-1]"
   ]
  },
  {
   "cell_type": "code",
   "execution_count": 64,
   "metadata": {},
   "outputs": [
    {
     "data": {
      "text/plain": [
       "['a', 'a', 'b', 'a', 'c', 'd', 'e', 'a', 'f']"
      ]
     },
     "execution_count": 64,
     "metadata": {},
     "output_type": "execute_result"
    }
   ],
   "source": [
    "xs[:]"
   ]
  },
  {
   "cell_type": "code",
   "execution_count": 67,
   "metadata": {},
   "outputs": [],
   "source": [
    "ys = xs"
   ]
  },
  {
   "cell_type": "code",
   "execution_count": 68,
   "metadata": {},
   "outputs": [],
   "source": [
    "zs = xs[:]"
   ]
  },
  {
   "cell_type": "code",
   "execution_count": 69,
   "metadata": {},
   "outputs": [
    {
     "data": {
      "text/plain": [
       "['a', 'a', 'b', 'a', 'c', 'd', 'e', 'a', 'f']"
      ]
     },
     "execution_count": 69,
     "metadata": {},
     "output_type": "execute_result"
    }
   ],
   "source": [
    "ys"
   ]
  },
  {
   "cell_type": "code",
   "execution_count": 70,
   "metadata": {},
   "outputs": [
    {
     "data": {
      "text/plain": [
       "['a', 'a', 'b', 'a', 'c', 'd', 'e', 'a', 'f']"
      ]
     },
     "execution_count": 70,
     "metadata": {},
     "output_type": "execute_result"
    }
   ],
   "source": [
    "zs"
   ]
  },
  {
   "cell_type": "code",
   "execution_count": 71,
   "metadata": {},
   "outputs": [],
   "source": [
    "zs[0] = 'toto'"
   ]
  },
  {
   "cell_type": "code",
   "execution_count": 72,
   "metadata": {},
   "outputs": [
    {
     "data": {
      "text/plain": [
       "['toto', 'a', 'b', 'a', 'c', 'd', 'e', 'a', 'f']"
      ]
     },
     "execution_count": 72,
     "metadata": {},
     "output_type": "execute_result"
    }
   ],
   "source": [
    "zs"
   ]
  },
  {
   "cell_type": "code",
   "execution_count": 73,
   "metadata": {},
   "outputs": [
    {
     "data": {
      "text/plain": [
       "['a', 'a', 'b', 'a', 'c', 'd', 'e', 'a', 'f']"
      ]
     },
     "execution_count": 73,
     "metadata": {},
     "output_type": "execute_result"
    }
   ],
   "source": [
    "xs"
   ]
  },
  {
   "cell_type": "code",
   "execution_count": 74,
   "metadata": {},
   "outputs": [],
   "source": [
    "ys[0] = 'toto'"
   ]
  },
  {
   "cell_type": "code",
   "execution_count": 75,
   "metadata": {},
   "outputs": [
    {
     "data": {
      "text/plain": [
       "['toto', 'a', 'b', 'a', 'c', 'd', 'e', 'a', 'f']"
      ]
     },
     "execution_count": 75,
     "metadata": {},
     "output_type": "execute_result"
    }
   ],
   "source": [
    "ys"
   ]
  },
  {
   "cell_type": "code",
   "execution_count": 76,
   "metadata": {},
   "outputs": [
    {
     "data": {
      "text/plain": [
       "['toto', 'a', 'b', 'a', 'c', 'd', 'e', 'a', 'f']"
      ]
     },
     "execution_count": 76,
     "metadata": {},
     "output_type": "execute_result"
    }
   ],
   "source": [
    "xs"
   ]
  },
  {
   "cell_type": "code",
   "execution_count": 77,
   "metadata": {},
   "outputs": [
    {
     "data": {
      "text/plain": [
       "['f', 'a', 'e', 'd', 'c', 'a', 'b', 'a', 'toto']"
      ]
     },
     "execution_count": 77,
     "metadata": {},
     "output_type": "execute_result"
    }
   ],
   "source": [
    "xs[::-1]"
   ]
  },
  {
   "cell_type": "code",
   "execution_count": 78,
   "metadata": {},
   "outputs": [],
   "source": [
    "xs.reverse()"
   ]
  },
  {
   "cell_type": "code",
   "execution_count": 79,
   "metadata": {},
   "outputs": [
    {
     "data": {
      "text/plain": [
       "['f', 'a', 'e', 'd', 'c', 'a', 'b', 'a', 'toto']"
      ]
     },
     "execution_count": 79,
     "metadata": {},
     "output_type": "execute_result"
    }
   ],
   "source": [
    "xs"
   ]
  },
  {
   "cell_type": "code",
   "execution_count": null,
   "metadata": {},
   "outputs": [],
   "source": []
  },
  {
   "cell_type": "code",
   "execution_count": null,
   "metadata": {},
   "outputs": [],
   "source": []
  },
  {
   "cell_type": "markdown",
   "metadata": {},
   "source": [
    "## Slicing a List\n",
    "\n",
    "Once you’ve defined a list, you can get any part of it as a new list. This is called slicing the list.\n",
    "\n",
    "skip over this code listing\n",
    "\n",
    "```python\n",
    ">>> xs\n",
    "['a', 'b', 'mpilgrim', 'z', 'example']\n",
    ">>> xs[1:3] ①\n",
    "['b', 'mpilgrim']\n",
    ">>> xs[1:-1] ②\n",
    "['b', 'mpilgrim', 'z']\n",
    ">>> xs[0:3] ③\n",
    "['a', 'b', 'mpilgrim']\n",
    ">>> xs[:3] ④\n",
    "['a', 'b', 'mpilgrim']\n",
    ">>> xs[3:] ⑤\n",
    "['z', 'example']\n",
    ">>> xs[:] ⑥\n",
    "['a', 'b', 'mpilgrim', 'z', 'example']\n",
    "```\n",
    "\n",
    "①\tYou can get a part of a list, called a “slice”, by specifying two indices. The return value is a new list containing all the items of the list, in order, starting with the first slice index (in this case xs[1]), up to but not including the second slice index (in this case xs[3]).\n",
    "\n",
    "②\tSlicing works if one or both of the slice indices is negative. If it helps, you can think of it this way: reading the list from left to right, the first slice index specifies the first item you want, and the second slice index specifies the first item you don’t want. The return value is everything in between.\n",
    "\n",
    "③\tLists are zero-based, so xs[0:3] returns the first three items of the list, starting at xs[0], up to but not including xs[3].\n",
    "\n",
    "④\tIf the left slice index is 0, you can leave it out, and 0 is implied. So xs[:3] is the same as xs[0:3], because the starting 0 is implied.\n",
    "\n",
    "⑤\tSimilarly, if the right slice index is the length of the list, you can leave it out. So xs[3:] is the same as xs[3:5], because this list has five items. There is a pleasing symmetry here. In this five-item list, xs[:3] returns the first 3 items, and xs[3:] returns the last two items. In fact, xs[:n] will always return the first n items, and xs[n:] will return the rest, regardless of the length of the list.\n",
    "\n",
    "⑥\tIf both slice indices are left out, all items of the list are included. But this is not the same as the original xs variable. It is a new list that happens to have all the same items. xs[:] is shorthand for making a complete copy of a list."
   ]
  },
  {
   "cell_type": "markdown",
   "metadata": {},
   "source": [
    "### Adding items to a List\n",
    "\n",
    "There are four ways to add items to a list.\n",
    "\n",
    "skip over this code listing\n",
    "\n",
    "```python\n",
    ">>> xs = ['a']\n",
    ">>> xs = xs + [2.0, 3] ①\n",
    ">>> xs ②\n",
    "['a', 2.0, 3]\n",
    ">>> xs.append(True) ③\n",
    ">>> xs\n",
    "['a', 2.0, 3, True]\n",
    ">>> xs.extend(['four', 'Ω']) ④\n",
    ">>> xs\n",
    "['a', 2.0, 3, True, 'four', 'Ω']\n",
    ">>> xs.insert(0, 'Ω') ⑤\n",
    ">>> xs\n",
    "['Ω', 'a', 2.0, 3, True, 'four', 'Ω']\n",
    "```\n",
    "\n",
    "①\tThe + operator concatenates lists to create a new list. A list can contain any number of items; there is no size limit (other than available memory). However, if memory is a concern, you should be aware that list concatenation creates a second list in memory. In this case, that new list is immediately assigned to the existing variable xs. So this line of code is really a two-step process — concatenation then assignment — which can (temporarily) consume a lot of memory when you’re dealing with large lists.\n",
    "\n",
    "②\tA list can contain items of any datatype, and the items in a single list don’t all need to be the same type. Here we have a list containing a string, a floating point number, and an integer.\n",
    "\n",
    "③\tThe append() method adds a single item to the end of the list. (Now we have four different datatypes in the list!)\n",
    "\n",
    "④\tLists are implemented as classes. “Creating” a list is really instantiating a class. As such, a list has methods that operate on it. The extend() method takes one argument, a list, and appends each of the items of the argument to the original list.\n",
    "\n",
    "⑤\tThe insert() method inserts a single item into a list. The first argument is the index of the first item in the list that will get bumped out of position. List items do not need to be unique; for example, there are now two separate items with the value 'Ω': the first item, xs[0], and the last item, xs[6].\n",
    "☞xs.insert(0, value) is like the unshift() function in Perl. It adds an item to the beginning of the list, and all the other items have their positional index bumped up to make room.\n",
    "\n",
    "Let’s look closer at the difference between append() and extend().\n",
    "\n",
    "skip over this code listing\n",
    "\n",
    "```python\n",
    ">>> xs = ['a', 'b', 'c']\n",
    ">>> xs.extend(['d', 'e', 'f']) ①\n",
    ">>> xs\n",
    "['a', 'b', 'c', 'd', 'e', 'f']\n",
    ">>> len(xs) ②\n",
    "6\n",
    ">>> xs[-1]\n",
    "'f'\n",
    ">>> xs.append(['g', 'h', 'i']) ③\n",
    ">>> xs\n",
    "['a', 'b', 'c', 'd', 'e', 'f', ['g', 'h', 'i']]\n",
    ">>> len(xs) ④\n",
    "7\n",
    ">>> xs[-1]\n",
    "['g', 'h', 'i']\n",
    "```\n",
    "\n",
    "①\tThe extend() method takes a single argument, which is always a list, and adds each of the items of that list to xs.\n",
    "\n",
    "②\tIf you start with a list of three items and extend it with a list of another three items, you end up with a list of six items.\n",
    "\n",
    "③\tOn the other hand, the append() method takes a single argument, which can be any datatype. Here, you’re calling the append() method with a list of three items.\n",
    "\n",
    "④\tIf you start with a list of six items and append a list onto it, you end up with... a list of seven items. Why seven? Because the last item (which you just appended) is itself a list. Lists can contain any type of data, including other lists. That may be what you want, or it may not. But it’s what you asked for, and it’s what you got."
   ]
  },
  {
   "cell_type": "markdown",
   "metadata": {},
   "source": [
    "### Searching for Values in a List\n",
    "\n",
    "```python\n",
    ">>> a_list = ['a', 'b', 'new', 'mpilgrim', 'new']\n",
    ">>> a_list.count('new') ①\n",
    "2\n",
    ">>> 'new' in a_list ②\n",
    "True\n",
    ">>> 'c' in a_list\n",
    "False\n",
    ">>> a_list.index('mpilgrim') ③\n",
    "3\n",
    ">>> a_list.index('new') ④\n",
    "2\n",
    ">>> a_list.index('c') ⑤\n",
    "Traceback (innermost last):\n",
    "  File \"<interactive input>\", line 1, in ?\n",
    "ValueError: list.index(x): x not in list\n",
    "```\n",
    "\n",
    "①\tAs you might expect, the count() method returns the number of occurrences of a specific value in a list.\n",
    "\n",
    "②\tIf all you want to know is whether a value is in the list or not, the in operator is slightly faster than using the count() method. The in operator always returns True or False; it will not tell you how many times the value appears in the list.\n",
    "\n",
    "③\tNeither the in operator nor the count() method will tell you where in the list a value appears. If you need to know where in the list a value is, call the index() method. By default it will search the entire list, although you can specify an optional second argument of the (0-based) index to start from, and even an optional third argument of the (0-based) index to stop searching.\n",
    "\n",
    "④\tThe index() method finds the first occurrence of a value in the list. In this case, 'new' occurs twice in the list, in a_list[2] and a_list[4], but the index() method will return only the index of the first occurrence.\n",
    "\n",
    "⑤\tAs you might not expect, if the value is not found in the list, the index() method will raise an exception.\n",
    "Wait, what? That’s right: the index() method raises an exception if it doesn’t find the value in the list. This is notably different from most languages, which will return some invalid index (like -1). While this may seem annoying at first, I think you will come to appreciate it. It means your program will crash at the source of the problem instead of failing strangely and silently later. Remember, -1 is a valid list index. If the index() method returned -1, that could lead to some not-so-fun debugging sessions!"
   ]
  },
  {
   "cell_type": "markdown",
   "metadata": {},
   "source": [
    "### Removing Items from a List\n",
    "\n",
    "Lists can expand and contract automatically. You’ve seen the expansion part. There are several different ways to remove items from a list as well.\n",
    "\n",
    "skip over this code listing\n",
    "\n",
    "```python\n",
    ">>> a_list = ['a', 'b', 'new', 'mpilgrim', 'new']\n",
    ">>> a_list[1]\n",
    "'b'\n",
    ">>> del a_list[1] ①\n",
    ">>> a_list\n",
    "['a', 'new', 'mpilgrim', 'new']\n",
    ">>> a_list[1] ②\n",
    "'new'\n",
    "```\n",
    "\n",
    "①\tYou can use the del statement to delete a specific item from a list.\n",
    "\n",
    "②\tAccessing index 1 after deleting index 1 does not result in an error. All items after the deleted item shift their positional index to “fill the gap” created by deleting the item.\n",
    "Don’t know the positional index? Not a problem; you can remove items by value instead.\n",
    "\n",
    "skip over this code listing\n",
    "\n",
    "```python\n",
    ">>> a_list.remove('new') ①\n",
    ">>> a_list\n",
    "['a', 'mpilgrim', 'new']\n",
    ">>> a_list.remove('new') ②\n",
    ">>> a_list\n",
    "['a', 'mpilgrim']\n",
    ">>> a_list.remove('new')\n",
    "Traceback (most recent call last):\n",
    "  File \"<stdin>\", line 1, in <module>\n",
    "ValueError: list.remove(x): x not in list\n",
    "```\n",
    "\n",
    "①\tYou can also remove an item from a list with the remove() method. The remove() method takes a value and removes the first occurrence of that value from the list. Again, all items after the deleted item will have their positional indices bumped down to “fill the gap.” Lists never have gaps.\n",
    "\n",
    "②\tYou can call the remove() method as often as you like, but it will raise an exception if you try to remove a value that isn’t in the list."
   ]
  },
  {
   "cell_type": "markdown",
   "metadata": {},
   "source": [
    "### Removing Items from a List: Bonus Round\n",
    "\n",
    "Another interesting list method is pop(). The pop() method is yet another way to remove items from a list, but with a twist.\n",
    "\n",
    "skip over this code listing\n",
    "\n",
    "```python\n",
    ">>> a_list = ['a', 'b', 'new', 'mpilgrim']\n",
    ">>> a_list.pop() ①\n",
    "'mpilgrim'\n",
    ">>> a_list\n",
    "['a', 'b', 'new']\n",
    ">>> a_list.pop(1) ②\n",
    "'b'\n",
    ">>> a_list\n",
    "['a', 'new']\n",
    ">>> a_list.pop()\n",
    "'new'\n",
    ">>> a_list.pop()\n",
    "'a'\n",
    ">>> a_list.pop() ③\n",
    "Traceback (most recent call last):\n",
    "  File \"<stdin>\", line 1, in <module>\n",
    "IndexError: pop from empty list\n",
    "```\n",
    "    \n",
    "①\tWhen called without arguments, the pop() list method removes the last item in the list and returns the value it removed.\n",
    "\n",
    "②\tYou can pop arbitrary items from a list. Just pass a positional index to the pop() method. It will remove that item, shift all the items after it to “fill the gap,” and return the value it removed.\n",
    "\n",
    "③\tCalling pop() on an empty list raises an exception.\n",
    "\n",
    "> Calling the pop() list method without an argument is like the pop() function in Perl. It removes the last item from the list and returns the value of the removed item. Perl has another function, shift(), which removes the first item and returns its value; in Python, this is equivalent to a_list.pop(0)."
   ]
  },
  {
   "cell_type": "markdown",
   "metadata": {},
   "source": [
    "### Lists in a Boolean Context\n",
    "\n",
    "You can also use a list in a boolean context, such as an if statement.\n",
    "\n",
    "skip over this code listing\n",
    "\n",
    "```python\n",
    ">>> def is_it_true(anything):\n",
    "...   if anything:\n",
    "...     print(\"yes, it's true\")\n",
    "...   else:\n",
    "...     print(\"no, it's false\")\n",
    "...\n",
    ">>> is_it_true([]) ①\n",
    "no, it's false\n",
    ">>> is_it_true(['a']) ②\n",
    "yes, it's true\n",
    ">>> is_it_true([False]) ③\n",
    "yes, it's true\n",
    "```\n",
    "\n",
    "①\tIn a boolean context, an empty list is false.\n",
    "\n",
    "②\tAny list with at least one item is true.\n",
    "\n",
    "③\tAny list with at least one item is true. The value of the items is irrelevant."
   ]
  },
  {
   "cell_type": "code",
   "execution_count": 80,
   "metadata": {},
   "outputs": [
    {
     "name": "stdout",
     "output_type": "stream",
     "text": [
      "no\n",
      "yes\n"
     ]
    },
    {
     "ename": "AssertionError",
     "evalue": "",
     "output_type": "error",
     "traceback": [
      "\u001b[0;31m---------------------------------------------------------------------------\u001b[0m",
      "\u001b[0;31mAssertionError\u001b[0m                            Traceback (most recent call last)",
      "\u001b[0;32m<ipython-input-80-650126beb527>\u001b[0m in \u001b[0;36m<module>\u001b[0;34m\u001b[0m\n\u001b[1;32m      9\u001b[0m \u001b[0mis_it_true\u001b[0m\u001b[0;34m(\u001b[0m\u001b[0;34m[\u001b[0m\u001b[0;34m]\u001b[0m\u001b[0;34m)\u001b[0m\u001b[0;34m\u001b[0m\u001b[0;34m\u001b[0m\u001b[0m\n\u001b[1;32m     10\u001b[0m \u001b[0mis_it_true\u001b[0m\u001b[0;34m(\u001b[0m\u001b[0;34m[\u001b[0m\u001b[0;34m'x'\u001b[0m\u001b[0;34m]\u001b[0m\u001b[0;34m)\u001b[0m\u001b[0;34m\u001b[0m\u001b[0;34m\u001b[0m\u001b[0m\n\u001b[0;32m---> 11\u001b[0;31m \u001b[0mis_it_true\u001b[0m\u001b[0;34m(\u001b[0m\u001b[0;34m{\u001b[0m\u001b[0;34m}\u001b[0m\u001b[0;34m)\u001b[0m\u001b[0;34m\u001b[0m\u001b[0;34m\u001b[0m\u001b[0m\n\u001b[0m",
      "\u001b[0;32m<ipython-input-80-650126beb527>\u001b[0m in \u001b[0;36mis_it_true\u001b[0;34m(anything)\u001b[0m\n\u001b[1;32m      1\u001b[0m \u001b[0;32mdef\u001b[0m \u001b[0mis_it_true\u001b[0m\u001b[0;34m(\u001b[0m\u001b[0manything\u001b[0m\u001b[0;34m)\u001b[0m\u001b[0;34m:\u001b[0m\u001b[0;34m\u001b[0m\u001b[0;34m\u001b[0m\u001b[0m\n\u001b[0;32m----> 2\u001b[0;31m     \u001b[0;32massert\u001b[0m\u001b[0;34m(\u001b[0m\u001b[0misinstance\u001b[0m\u001b[0;34m(\u001b[0m\u001b[0manything\u001b[0m\u001b[0;34m,\u001b[0m \u001b[0mlist\u001b[0m\u001b[0;34m)\u001b[0m\u001b[0;34m)\u001b[0m\u001b[0;34m\u001b[0m\u001b[0;34m\u001b[0m\u001b[0m\n\u001b[0m\u001b[1;32m      3\u001b[0m \u001b[0;34m\u001b[0m\u001b[0m\n\u001b[1;32m      4\u001b[0m     \u001b[0;32mif\u001b[0m \u001b[0mlen\u001b[0m\u001b[0;34m(\u001b[0m\u001b[0manything\u001b[0m\u001b[0;34m)\u001b[0m \u001b[0;34m>\u001b[0m \u001b[0;36m0\u001b[0m\u001b[0;34m:\u001b[0m\u001b[0;34m\u001b[0m\u001b[0;34m\u001b[0m\u001b[0m\n\u001b[1;32m      5\u001b[0m         \u001b[0mprint\u001b[0m\u001b[0;34m(\u001b[0m\u001b[0;34m'yes'\u001b[0m\u001b[0;34m)\u001b[0m\u001b[0;34m\u001b[0m\u001b[0;34m\u001b[0m\u001b[0m\n",
      "\u001b[0;31mAssertionError\u001b[0m: "
     ]
    }
   ],
   "source": [
    "def is_it_true(anything):\n",
    "    assert(isinstance(anything, list))\n",
    "    \n",
    "    if len(anything) > 0:\n",
    "        print('yes')\n",
    "    else:\n",
    "        print('no')\n",
    "\n",
    "is_it_true([])\n",
    "is_it_true(['x'])\n",
    "is_it_true({})"
   ]
  },
  {
   "cell_type": "markdown",
   "metadata": {},
   "source": [
    "## Sets\n",
    "\n",
    "A set is an unordered “bag” of unique values. A single set can contain values of any immutable datatype. Once you have two sets, you can do standard set operations like union, intersection, and set difference."
   ]
  },
  {
   "cell_type": "code",
   "execution_count": 81,
   "metadata": {},
   "outputs": [],
   "source": [
    "a = {1,2,3}"
   ]
  },
  {
   "cell_type": "code",
   "execution_count": 82,
   "metadata": {},
   "outputs": [
    {
     "data": {
      "text/plain": [
       "{1, 2, 3}"
      ]
     },
     "execution_count": 82,
     "metadata": {},
     "output_type": "execute_result"
    }
   ],
   "source": [
    "a"
   ]
  },
  {
   "cell_type": "code",
   "execution_count": 84,
   "metadata": {},
   "outputs": [],
   "source": [
    "a = set([1, 2, 2, 3, 4, 1])"
   ]
  },
  {
   "cell_type": "code",
   "execution_count": 85,
   "metadata": {},
   "outputs": [
    {
     "data": {
      "text/plain": [
       "{1, 2, 3, 4}"
      ]
     },
     "execution_count": 85,
     "metadata": {},
     "output_type": "execute_result"
    }
   ],
   "source": [
    "a"
   ]
  },
  {
   "cell_type": "code",
   "execution_count": null,
   "metadata": {},
   "outputs": [],
   "source": []
  },
  {
   "cell_type": "code",
   "execution_count": null,
   "metadata": {},
   "outputs": [],
   "source": []
  },
  {
   "cell_type": "code",
   "execution_count": null,
   "metadata": {},
   "outputs": [],
   "source": []
  },
  {
   "cell_type": "markdown",
   "metadata": {},
   "source": [
    "### Creating a Set\n",
    "\n",
    "First things first. Creating a set is easy.\n",
    "\n",
    "skip over this code listing\n",
    "\n",
    "```python\n",
    ">>> a_set = {1} ①\n",
    ">>> a_set\n",
    "{1}\n",
    ">>> type(a_set) ②\n",
    "<class 'set'>\n",
    ">>> a_set = {1, 2} ③\n",
    ">>> a_set\n",
    "{1, 2}\n",
    "```\n",
    "\n",
    "①\tTo create a set with one value, put the value in curly brackets ({}).\n",
    "\n",
    "②\tSets are actually implemented as classes, but don’t worry about that for now.\n",
    "\n",
    "③\tTo create a set with multiple values, separate the values with commas and wrap it all up with curly brackets.\n",
    "\n",
    "You can also create a set out of a list.\n",
    "\n",
    "skip over this code listing\n",
    "\n",
    "```python\n",
    ">>> a_list = ['a', 'b', 'mpilgrim', True, False, 42]\n",
    ">>> a_set = set(a_list) ①\n",
    ">>> a_set ②\n",
    "{'a', False, 'b', True, 'mpilgrim', 42}\n",
    ">>> a_list ③\n",
    "['a', 'b', 'mpilgrim', True, False, 42]\n",
    "```\n",
    "\n",
    "①\tTo create a set from a list, use the set() function. (Pedants who know about how sets are implemented will point out that this is not really calling a function, but instantiating a class. I promise you will learn the difference later in this book. For now, just know that set() acts like a function, and it returns a set.)\n",
    "\n",
    "②\tAs I mentioned earlier, a single set can contain values of any datatype. And, as I mentioned earlier, sets are unordered. This set does not remember the original order of the list that was used to create it. If you were to add items to this set, it would not remember the order in which you added them.\n",
    "\n",
    "③\tThe original list is unchanged.\n",
    "\n",
    "Don’t have any values yet? Not a problem. You can create an empty set.\n",
    "\n",
    "skip over this code listing\n",
    "\n",
    "```python\n",
    ">>> a_set = set() ①\n",
    ">>> a_set ②\n",
    "set()\n",
    ">>> type(a_set) ③\n",
    "<class 'set'>\n",
    ">>> len(a_set) ④\n",
    "0\n",
    ">>> not_sure = {} ⑤\n",
    ">>> type(not_sure)\n",
    "<class 'dict'>\n",
    "```\n",
    "\n",
    "①\tTo create an empty set, call set() with no arguments.\n",
    "\n",
    "②\tThe printed representation of an empty set looks a bit strange. Were you expecting {}, perhaps? That would denote an empty dictionary, not an empty set. You’ll learn about dictionaries later in this chapter.\n",
    "\n",
    "③\tDespite the strange printed representation, this is a set…\n",
    "\n",
    "④\t…and this set has no members.\n",
    "\n",
    "⑤\tDue to historical quirks carried over from Python 2, you can not create an empty set with two curly brackets. This actually creates an empty dictionary, not an empty set."
   ]
  },
  {
   "cell_type": "markdown",
   "metadata": {},
   "source": [
    "### Modifying a Set\n",
    "\n",
    "There are two different ways to add values to an existing set: the add() method, and the update() method.\n",
    "\n",
    "skip over this code listing\n",
    "\n",
    "```python\n",
    ">>> a_set = {1, 2}\n",
    ">>> a_set.add(4) ①\n",
    ">>> a_set\n",
    "{1, 2, 4}\n",
    ">>> len(a_set) ②\n",
    "3\n",
    ">>> a_set.add(1) ③\n",
    ">>> a_set\n",
    "{1, 2, 4}\n",
    ">>> len(a_set) ④\n",
    "3\n",
    "```\n",
    "\n",
    "①\tThe add() method takes a single argument, which can be any datatype, and adds the given value to the set.\n",
    "\n",
    "②\tThis set now has 3 members.\n",
    "\n",
    "③\tSets are bags of unique values. If you try to add a value that already exists in the set, it will do nothing. It won’t raise an error; it’s just a no-op.\n",
    "\n",
    "④\tThis set still has 3 members.\n",
    "\n",
    "skip over this code listing\n",
    "\n",
    "```python\n",
    ">>> a_set = {1, 2, 3}\n",
    ">>> a_set\n",
    "{1, 2, 3}\n",
    ">>> a_set.update({2, 4, 6}) ①\n",
    ">>> a_set ②\n",
    "{1, 2, 3, 4, 6}\n",
    ">>> a_set.update({3, 6, 9}, {1, 2, 3, 5, 8, 13}) ③\n",
    ">>> a_set\n",
    "{1, 2, 3, 4, 5, 6, 8, 9, 13}\n",
    ">>> a_set.update([10, 20, 30]) ④\n",
    ">>> a_set\n",
    "{1, 2, 3, 4, 5, 6, 8, 9, 10, 13, 20, 30}\n",
    "```\n",
    "\n",
    "①\tThe update() method takes one argument, a set, and adds all its members to the original set. It’s as if you called the add() method with each member of the set.\n",
    "\n",
    "②\tDuplicate values are ignored, since sets can not contain duplicates.\n",
    "\n",
    "③\tYou can actually call the update() method with any number of arguments. When called with two sets, the update() method adds all the members of each set to the original set (dropping duplicates).\n",
    "\n",
    "④\tThe update() method can take objects of a number of different datatypes, including lists. When called with a list, the update() method adds all the items of the list to the original set."
   ]
  },
  {
   "cell_type": "markdown",
   "metadata": {},
   "source": [
    "### Removing Items from a Set\n",
    "\n",
    "There are three ways to remove individual values from a set. The first two, discard() and remove(), have one subtle difference.\n",
    "\n",
    "skip over this code listing\n",
    "\n",
    "```python\n",
    ">>> a_set = {1, 3, 6, 10, 15, 21, 28, 36, 45}\n",
    ">>> a_set\n",
    "{1, 3, 36, 6, 10, 45, 15, 21, 28}\n",
    ">>> a_set.discard(10) ①\n",
    ">>> a_set\n",
    "{1, 3, 36, 6, 45, 15, 21, 28}\n",
    ">>> a_set.discard(10) ②\n",
    ">>> a_set\n",
    "{1, 3, 36, 6, 45, 15, 21, 28}\n",
    ">>> a_set.remove(21) ③\n",
    ">>> a_set\n",
    "{1, 3, 36, 6, 45, 15, 28}\n",
    ">>> a_set.remove(21) ④\n",
    "Traceback (most recent call last):\n",
    "  File \"<stdin>\", line 1, in <module>\n",
    "KeyError: 21\n",
    "```\n",
    "\n",
    "①\tThe discard() method takes a single value as an argument and removes that value from the set.\n",
    "\n",
    "②\tIf you call the discard() method with a value that doesn’t exist in the set, it does nothing. No error; it’s just a no-op.\n",
    "\n",
    "③\tThe remove() method also takes a single value as an argument, and it also removes that value from the set.\n",
    "\n",
    "④\tHere’s the difference: if the value doesn’t exist in the set, the remove() method raises a KeyError exception.\n",
    "\n",
    "Like lists, sets have a pop() method.\n",
    "\n",
    "skip over this code listing\n",
    "\n",
    "```python\n",
    ">>> a_set = {1, 3, 6, 10, 15, 21, 28, 36, 45}\n",
    ">>> a_set.pop() ①\n",
    "1\n",
    ">>> a_set.pop()\n",
    "3\n",
    ">>> a_set.pop()\n",
    "36\n",
    ">>> a_set\n",
    "{6, 10, 45, 15, 21, 28}\n",
    ">>> a_set.clear() ②\n",
    ">>> a_set\n",
    "set()\n",
    ">>> a_set.pop() ③\n",
    "Traceback (most recent call last):\n",
    "  File \"<stdin>\", line 1, in <module>\n",
    "KeyError: 'pop from an empty set'\n",
    "```\n",
    "\n",
    "①\tThe pop() method removes a single value from a set and returns the value. However, since sets are unordered, there is no “last” value in a set, so there is no way to control which value gets removed. It is completely arbitrary.\n",
    "\n",
    "②\tThe clear() method removes all values from a set, leaving you with an empty set. This is equivalent to a_set = set(), which would create a new empty set and overwrite the previous value of the a_set variable.\n",
    "\n",
    "③\tAttempting to pop a value from an empty set will raise a KeyError exception."
   ]
  },
  {
   "cell_type": "code",
   "execution_count": 86,
   "metadata": {},
   "outputs": [],
   "source": [
    "a_set = {1, 3, 6, 10, 15, 21, 28, 36, 45}"
   ]
  },
  {
   "cell_type": "code",
   "execution_count": 87,
   "metadata": {},
   "outputs": [],
   "source": [
    "a_set.discard(2)"
   ]
  },
  {
   "cell_type": "code",
   "execution_count": 88,
   "metadata": {},
   "outputs": [
    {
     "ename": "KeyError",
     "evalue": "2",
     "output_type": "error",
     "traceback": [
      "\u001b[0;31m---------------------------------------------------------------------------\u001b[0m",
      "\u001b[0;31mKeyError\u001b[0m                                  Traceback (most recent call last)",
      "\u001b[0;32m<ipython-input-88-0e380c8645f7>\u001b[0m in \u001b[0;36m<module>\u001b[0;34m\u001b[0m\n\u001b[0;32m----> 1\u001b[0;31m \u001b[0ma_set\u001b[0m\u001b[0;34m.\u001b[0m\u001b[0mremove\u001b[0m\u001b[0;34m(\u001b[0m\u001b[0;36m2\u001b[0m\u001b[0;34m)\u001b[0m\u001b[0;34m\u001b[0m\u001b[0;34m\u001b[0m\u001b[0m\n\u001b[0m",
      "\u001b[0;31mKeyError\u001b[0m: 2"
     ]
    }
   ],
   "source": [
    "a_set.remove(2)"
   ]
  },
  {
   "cell_type": "code",
   "execution_count": 89,
   "metadata": {},
   "outputs": [],
   "source": [
    "b_set = {1, 3, 6, 10, 15, 21, 28, 36, 45}"
   ]
  },
  {
   "cell_type": "code",
   "execution_count": 90,
   "metadata": {},
   "outputs": [
    {
     "data": {
      "text/plain": [
       "{1, 3, 6, 10, 15, 21, 28, 36, 45}"
      ]
     },
     "execution_count": 90,
     "metadata": {},
     "output_type": "execute_result"
    }
   ],
   "source": [
    "b_set"
   ]
  },
  {
   "cell_type": "markdown",
   "metadata": {},
   "source": [
    "### Common Set Operations\n",
    "\n",
    "Python’s set type supports several common set operations.\n",
    "\n",
    "skip over this code listing\n",
    "\n",
    "```python\n",
    ">>> a_set = {2, 4, 5, 9, 12, 21, 30, 51, 76, 127, 195}\n",
    ">>> 30 in a_set ①\n",
    "True\n",
    ">>> 31 in a_set\n",
    "False\n",
    ">>> b_set = {1, 2, 3, 5, 6, 8, 9, 12, 15, 17, 18, 21}\n",
    ">>> a_set.union(b_set) ②\n",
    "{1, 2, 195, 4, 5, 6, 8, 12, 76, 15, 17, 18, 3, 21, 30, 51, 9, 127}\n",
    ">>> a_set.intersection(b_set) ③\n",
    "{9, 2, 12, 5, 21}\n",
    ">>> a_set.difference(b_set) ④\n",
    "{195, 4, 76, 51, 30, 127}\n",
    ">>> a_set.symmetric_difference(b_set) ⑤\n",
    "{1, 3, 4, 6, 8, 76, 15, 17, 18, 195, 127, 30, 51}\n",
    "```\n",
    "\n",
    "①\tTo test whether a value is a member of a set, use the in operator. This works the same as lists.\n",
    "\n",
    "②\tThe union() method returns a new set containing all the elements that are in either set.\n",
    "\n",
    "③\tThe intersection() method returns a new set containing all the elements that are in both sets.\n",
    "\n",
    "④\tThe difference() method returns a new set containing all the elements that are in a_set but not b_set.\n",
    "\n",
    "⑤\tThe symmetric_difference() method returns a new set containing all the elements that are in exactly one of the sets.\n",
    "Three of these methods are symmetric.\n",
    "\n",
    "skip over this code listing\n",
    "\n",
    "```python\n",
    "# continued from the previous example\n",
    ">>> b_set.symmetric_difference(a_set) ①\n",
    "{3, 1, 195, 4, 6, 8, 76, 15, 17, 18, 51, 30, 127}\n",
    ">>> b_set.symmetric_difference(a_set) == a_set.symmetric_difference(b_set) ②\n",
    "True\n",
    ">>> b_set.union(a_set) == a_set.union(b_set) ③\n",
    "True\n",
    ">>> b_set.intersection(a_set) == a_set.intersection(b_set) ④\n",
    "True\n",
    ">>> b_set.difference(a_set) == a_set.difference(b_set) ⑤\n",
    "False\n",
    "```\n",
    "\n",
    "①\tThe symmetric difference of a_set from b_set looks different than the symmetric difference of b_set from a_set, but remember, sets are unordered. Any two sets that contain all the same values (with none left over) are considered equal.\n",
    "\n",
    "②\tAnd that’s exactly what happens here. Don’t be fooled by the Python Shell’s printed representation of these sets. They contain the same values, so they are equal.\n",
    "\n",
    "③\tThe union of two sets is also symmetric.\n",
    "\n",
    "④\tThe intersection of two sets is also symmetric.\n",
    "\n",
    "⑤\tThe difference of two sets is not symmetric. That makes sense; it’s analogous to subtracting one number from another. The order of the operands matters.\n",
    "\n",
    "Finally, there are a few questions you can ask of sets.\n",
    "\n",
    "skip over this code listing\n",
    "\n",
    "```python\n",
    ">>> a_set = {1, 2, 3}\n",
    ">>> b_set = {1, 2, 3, 4}\n",
    ">>> a_set.issubset(b_set) ①\n",
    "True\n",
    ">>> b_set.issuperset(a_set) ②\n",
    "True\n",
    ">>> a_set.add(5) ③\n",
    ">>> a_set.issubset(b_set)\n",
    "False\n",
    ">>> b_set.issuperset(a_set)\n",
    "False\n",
    "```\n",
    "\n",
    "①\ta_set is a subset of b_set — all the members of a_set are also members of b_set.\n",
    "\n",
    "②\tAsking the same question in reverse, b_set is a superset of a_set, because all the members of a_set are also members of b_set.\n",
    "\n",
    "③\tAs soon as you add a value to a_set that is not in b_set, both tests return False."
   ]
  },
  {
   "cell_type": "markdown",
   "metadata": {},
   "source": [
    "### Sets in a Boolean Context\n",
    "\n",
    "You can use sets in a boolean context, such as an if statement.\n",
    "\n",
    "skip over this code listing\n",
    "\n",
    "```python\n",
    ">>> def is_it_true(anything):\n",
    "...   if anything:\n",
    "...     print(\"yes, it's true\")\n",
    "...   else:\n",
    "...     print(\"no, it's false\")\n",
    "...\n",
    ">>> is_it_true(set()) ①\n",
    "no, it's false\n",
    ">>> is_it_true({'a'}) ②\n",
    "yes, it's true\n",
    ">>> is_it_true({False}) ③\n",
    "yes, it's true\n",
    "```\n",
    "\n",
    "①\tIn a boolean context, an empty set is false.\n",
    "\n",
    "②\tAny set with at least one item is true.\n",
    "\n",
    "③\tAny set with at least one item is true. The value of the items is irrelevant."
   ]
  },
  {
   "cell_type": "markdown",
   "metadata": {},
   "source": [
    "## Dictionaries\n",
    "\n",
    "A dictionary is an unordered set of key-value pairs. When you add a key to a dictionary, you must also add a value for that key. (You can always change the value later.) Python dictionaries are optimized for retrieving the value when you know the key, but not the other way around.\n",
    "\n",
    "> A dictionary in Python is like a hash in Perl 5. In Perl 5, variables that store hashes always start with a % character. In Python, variables can be named anything, and Python keeps track of the datatype internally."
   ]
  },
  {
   "cell_type": "markdown",
   "metadata": {},
   "source": [
    "### Creating a Dictionary\n",
    "\n",
    "Creating a dictionary is easy. The syntax is similar to sets, but instead of values, you have key-value pairs. Once you have a dictionary, you can look up values by their key.\n",
    "\n",
    "skip over this code listing\n",
    "\n",
    "```python\n",
    ">>> a_dict = {'server': 'db.diveintopython3.org', 'database': 'mysql'} ①\n",
    ">>> a_dict\n",
    "{'server': 'db.diveintopython3.org', 'database': 'mysql'}\n",
    ">>> a_dict['server'] ②\n",
    "'db.diveintopython3.org'\n",
    ">>> a_dict['database'] ③\n",
    "'mysql'\n",
    ">>> a_dict['db.diveintopython3.org'] ④\n",
    "Traceback (most recent call last):\n",
    "  File \"<stdin>\", line 1, in <module>\n",
    "KeyError: 'db.diveintopython3.org'\n",
    "```\n",
    "\n",
    "①\tFirst, you create a new dictionary with two items and assign it to the variable a_dict. Each item is a key-value pair, and the whole set of items is enclosed in curly braces.\n",
    "\n",
    "②\t'server' is a key, and its associated value, referenced by a_dict['server'], is 'db.diveintopython3.org'.\n",
    "\n",
    "③\t'database' is a key, and its associated value, referenced by a_dict['database'], is 'mysql'.\n",
    "\n",
    "④\tYou can get values by key, but you can’t get keys by value. So a_dict['server'] is 'db.diveintopython3.org', but a_dict['db.diveintopython3.org'] raises an exception, because 'db.diveintopython3.org' is not a key."
   ]
  },
  {
   "cell_type": "markdown",
   "metadata": {},
   "source": [
    "### Modifying a Dictionary\n",
    "\n",
    "Dictionaries do not have any predefined size limit. You can add new key-value pairs to a dictionary at any time, or you can modify the value of an existing key. Continuing from the previous example:\n",
    "\n",
    "skip over this code listing\n",
    "\n",
    "```python\n",
    ">>> a_dict\n",
    "{'server': 'db.diveintopython3.org', 'database': 'mysql'}\n",
    ">>> a_dict['database'] = 'blog' ①\n",
    ">>> a_dict\n",
    "{'server': 'db.diveintopython3.org', 'database': 'blog'}\n",
    ">>> a_dict['user'] = 'mark' ②\n",
    ">>> a_dict ③\n",
    "{'server': 'db.diveintopython3.org', 'user': 'mark', 'database': 'blog'}\n",
    ">>> a_dict['user'] = 'dora' ④\n",
    ">>> a_dict\n",
    "{'server': 'db.diveintopython3.org', 'user': 'dora', 'database': 'blog'}\n",
    ">>> a_dict['User'] = 'mark' ⑤\n",
    ">>> a_dict\n",
    "{'User': 'mark', 'server': 'db.diveintopython3.org', 'user': 'dora', 'database': 'blog'}\n",
    "```\n",
    "\n",
    "①\tYou can not have duplicate keys in a dictionary. Assigning a value to an existing key will wipe out the old value.\n",
    "\n",
    "②\tYou can add new key-value pairs at any time. This syntax is identical to modifying existing values.\n",
    "\n",
    "③\tThe new dictionary item (key 'user', value 'mark') appears to be in the middle. In fact, it was just a coincidence that the items appeared to be in order in the first example; it is just as much a coincidence that they appear to be out of order now.\n",
    "\n",
    "④\tAssigning a value to an existing dictionary key simply replaces the old value with the new one.\n",
    "\n",
    "⑤\tWill this change the value of the user key back to \"mark\"? No! Look at the key closely — that’s a capital U in \"User\". Dictionary keys are case-sensitive, so this statement is creating a new key-value pair, not overwriting an existing one. It may look similar to you, but as far as Python is concerned, it’s completely different."
   ]
  },
  {
   "cell_type": "markdown",
   "metadata": {},
   "source": [
    "### Mixed-Value Dictionaries\n",
    "\n",
    "Dictionaries aren’t just for strings. Dictionary values can be any datatype, including integers, booleans, arbitrary objects, or even other dictionaries. And within a single dictionary, the values don’t all need to be the same type; you can mix and match as needed. Dictionary keys are more restricted, but they can be strings, integers, and a few other types. You can also mix and match key datatypes within a dictionary.\n",
    "\n",
    "In fact, you’ve already seen a dictionary with non-string keys and values, in your first Python program.\n",
    "\n",
    "```python\n",
    "SUFFIXES = {1000: ['KB', 'MB', 'GB', 'TB', 'PB', 'EB', 'ZB', 'YB'],\n",
    "            1024: ['KiB', 'MiB', 'GiB', 'TiB', 'PiB', 'EiB', 'ZiB', 'YiB']}\n",
    "```\n",
    "\n",
    "Let's tear that apart in the interactive shell.\n",
    "\n",
    "skip over this code listing\n",
    "\n",
    "```python\n",
    ">>> SUFFIXES = {1000: ['KB', 'MB', 'GB', 'TB', 'PB', 'EB', 'ZB', 'YB'],\n",
    "...             1024: ['KiB', 'MiB', 'GiB', 'TiB', 'PiB', 'EiB', 'ZiB', 'YiB']}\n",
    ">>> len(SUFFIXES) ①\n",
    "2\n",
    ">>> 1000 in SUFFIXES ②\n",
    "True\n",
    ">>> SUFFIXES[1000] ③\n",
    "['KB', 'MB', 'GB', 'TB', 'PB', 'EB', 'ZB', 'YB']\n",
    ">>> SUFFIXES[1024] ④\n",
    "['KiB', 'MiB', 'GiB', 'TiB', 'PiB', 'EiB', 'ZiB', 'YiB']\n",
    ">>> SUFFIXES[1000][3] ⑤\n",
    "'TB'\n",
    "```\n",
    "\n",
    "①\tLike lists and sets, the len() function gives you the number of keys in a dictionary.\n",
    "\n",
    "②\tAnd like lists and sets, you can use the in operator to test whether a specific key is defined in a dictionary.\n",
    "\n",
    "③\t1000 is a key in the SUFFIXES dictionary; its value is a list of eight items (eight strings, to be precise).\n",
    "\n",
    "④\tSimilarly, 1024 is a key in the SUFFIXES dictionary; its value is also a list of eight items.\n",
    "\n",
    "⑤\tSince SUFFIXES[1000] is a list, you can address individual items in the list by their 0-based index."
   ]
  },
  {
   "cell_type": "markdown",
   "metadata": {},
   "source": [
    "### Dictionaries in a Boolean Context\n",
    "\n",
    "You can also use a dictionary in a boolean context, such as an if statement.\n",
    "\n",
    "skip over this code listing\n",
    "\n",
    "```python\n",
    ">>> def is_it_true(anything):\n",
    "...   if anything:\n",
    "...     print(\"yes, it's true\")\n",
    "...   else:\n",
    "...     print(\"no, it's false\")\n",
    "...\n",
    ">>> is_it_true({}) ①\n",
    "no, it's false\n",
    ">>> is_it_true({'a': 1}) ②\n",
    "yes, it's true\n",
    "```\n",
    "\n",
    "①\tIn a boolean context, an empty dictionary is false.\n",
    "\n",
    "②\tAny dictionary with at least one key-value pair is true."
   ]
  },
  {
   "cell_type": "code",
   "execution_count": 92,
   "metadata": {},
   "outputs": [],
   "source": [
    "a_list = [1, 2, 3, 4, 5]"
   ]
  },
  {
   "cell_type": "code",
   "execution_count": 93,
   "metadata": {},
   "outputs": [],
   "source": [
    "a_set = {1, 2, 3, 4, 5}"
   ]
  },
  {
   "cell_type": "code",
   "execution_count": 130,
   "metadata": {},
   "outputs": [],
   "source": [
    "a_dict = {1: 'a', tuple(a_list): 'list', 'x': a_list}"
   ]
  },
  {
   "cell_type": "code",
   "execution_count": 131,
   "metadata": {},
   "outputs": [
    {
     "name": "stdout",
     "output_type": "stream",
     "text": [
      "1\n",
      "(1, 2, 3, 4, 5)\n",
      "x\n"
     ]
    }
   ],
   "source": [
    "for k in a_dict.keys():\n",
    "    print(k)"
   ]
  },
  {
   "cell_type": "code",
   "execution_count": 132,
   "metadata": {},
   "outputs": [
    {
     "name": "stdout",
     "output_type": "stream",
     "text": [
      "a\n",
      "list\n",
      "[1, 2, 3, 4, 5]\n"
     ]
    }
   ],
   "source": [
    "for v in a_dict.values():\n",
    "    print(v)"
   ]
  },
  {
   "cell_type": "code",
   "execution_count": 119,
   "metadata": {},
   "outputs": [
    {
     "name": "stdout",
     "output_type": "stream",
     "text": [
      "key = 1     value = a\n",
      "key = (1, 2, 3, 4, 5)     value = list\n",
      "key = x     value = toto\n"
     ]
    }
   ],
   "source": [
    "pattern = 'key = {key}     value = {value}'\n",
    "for k,v in a_dict.items():\n",
    "    print(pattern.format(key=k, value=v))"
   ]
  },
  {
   "cell_type": "code",
   "execution_count": 123,
   "metadata": {},
   "outputs": [
    {
     "data": {
      "text/plain": [
       "['a', 'list', 'toto']"
      ]
     },
     "execution_count": 123,
     "metadata": {},
     "output_type": "execute_result"
    }
   ],
   "source": [
    "list(a_dict.values())"
   ]
  },
  {
   "cell_type": "code",
   "execution_count": 127,
   "metadata": {},
   "outputs": [
    {
     "data": {
      "text/plain": [
       "dict_values(['a', 'list', 'toto'])"
      ]
     },
     "execution_count": 127,
     "metadata": {},
     "output_type": "execute_result"
    }
   ],
   "source": [
    "a_dict.values()"
   ]
  },
  {
   "cell_type": "code",
   "execution_count": 129,
   "metadata": {},
   "outputs": [
    {
     "data": {
      "text/plain": [
       "['a', 'list', 'toto']"
      ]
     },
     "execution_count": 129,
     "metadata": {},
     "output_type": "execute_result"
    }
   ],
   "source": [
    "[v for v in a_dict.values()]"
   ]
  },
  {
   "cell_type": "code",
   "execution_count": 124,
   "metadata": {},
   "outputs": [
    {
     "ename": "TypeError",
     "evalue": "unsupported operand type(s) for +: 'dict_keys' and 'dict_values'",
     "output_type": "error",
     "traceback": [
      "\u001b[0;31m---------------------------------------------------------------------------\u001b[0m",
      "\u001b[0;31mTypeError\u001b[0m                                 Traceback (most recent call last)",
      "\u001b[0;32m<ipython-input-124-40476b8a65a0>\u001b[0m in \u001b[0;36m<module>\u001b[0;34m\u001b[0m\n\u001b[0;32m----> 1\u001b[0;31m \u001b[0ma_dict\u001b[0m\u001b[0;34m.\u001b[0m\u001b[0mkeys\u001b[0m\u001b[0;34m(\u001b[0m\u001b[0;34m)\u001b[0m \u001b[0;34m+\u001b[0m \u001b[0ma_dict\u001b[0m\u001b[0;34m.\u001b[0m\u001b[0mvalues\u001b[0m\u001b[0;34m(\u001b[0m\u001b[0;34m)\u001b[0m\u001b[0;34m\u001b[0m\u001b[0;34m\u001b[0m\u001b[0m\n\u001b[0m",
      "\u001b[0;31mTypeError\u001b[0m: unsupported operand type(s) for +: 'dict_keys' and 'dict_values'"
     ]
    }
   ],
   "source": [
    "a_dict.keys() + a_dict.values()"
   ]
  },
  {
   "cell_type": "markdown",
   "metadata": {},
   "source": [
    "## Tuple"
   ]
  },
  {
   "cell_type": "code",
   "execution_count": 100,
   "metadata": {},
   "outputs": [],
   "source": [
    "x_tuple = ('a', 'b', 'c')"
   ]
  },
  {
   "cell_type": "code",
   "execution_count": 101,
   "metadata": {},
   "outputs": [
    {
     "data": {
      "text/plain": [
       "tuple"
      ]
     },
     "execution_count": 101,
     "metadata": {},
     "output_type": "execute_result"
    }
   ],
   "source": [
    "type(x_tuple)"
   ]
  },
  {
   "cell_type": "code",
   "execution_count": 102,
   "metadata": {},
   "outputs": [],
   "source": [
    "x_list = ['a', 'b', 'c']\n",
    "x_tuple = tuple(x_list)"
   ]
  },
  {
   "cell_type": "code",
   "execution_count": 103,
   "metadata": {},
   "outputs": [
    {
     "data": {
      "text/plain": [
       "'b'"
      ]
     },
     "execution_count": 103,
     "metadata": {},
     "output_type": "execute_result"
    }
   ],
   "source": [
    "x_tuple[1]"
   ]
  },
  {
   "cell_type": "code",
   "execution_count": 104,
   "metadata": {},
   "outputs": [
    {
     "ename": "TypeError",
     "evalue": "'tuple' object does not support item assignment",
     "output_type": "error",
     "traceback": [
      "\u001b[0;31m---------------------------------------------------------------------------\u001b[0m",
      "\u001b[0;31mTypeError\u001b[0m                                 Traceback (most recent call last)",
      "\u001b[0;32m<ipython-input-104-f252751ba51c>\u001b[0m in \u001b[0;36m<module>\u001b[0;34m\u001b[0m\n\u001b[0;32m----> 1\u001b[0;31m \u001b[0mx_tuple\u001b[0m\u001b[0;34m[\u001b[0m\u001b[0;36m1\u001b[0m\u001b[0;34m]\u001b[0m \u001b[0;34m=\u001b[0m \u001b[0;34m'z'\u001b[0m\u001b[0;34m\u001b[0m\u001b[0;34m\u001b[0m\u001b[0m\n\u001b[0m",
      "\u001b[0;31mTypeError\u001b[0m: 'tuple' object does not support item assignment"
     ]
    }
   ],
   "source": [
    "x_tuple[1] = 'z'"
   ]
  },
  {
   "cell_type": "code",
   "execution_count": 105,
   "metadata": {},
   "outputs": [
    {
     "data": {
      "text/plain": [
       "3"
      ]
     },
     "execution_count": 105,
     "metadata": {},
     "output_type": "execute_result"
    }
   ],
   "source": [
    "len(x_tuple)"
   ]
  },
  {
   "cell_type": "code",
   "execution_count": 106,
   "metadata": {},
   "outputs": [
    {
     "data": {
      "text/plain": [
       "1"
      ]
     },
     "execution_count": 106,
     "metadata": {},
     "output_type": "execute_result"
    }
   ],
   "source": [
    "x_tuple.index('b')"
   ]
  },
  {
   "cell_type": "code",
   "execution_count": 107,
   "metadata": {},
   "outputs": [
    {
     "data": {
      "text/plain": [
       "['a', 'b', 'c']"
      ]
     },
     "execution_count": 107,
     "metadata": {},
     "output_type": "execute_result"
    }
   ],
   "source": [
    "x_list"
   ]
  },
  {
   "cell_type": "code",
   "execution_count": 108,
   "metadata": {},
   "outputs": [],
   "source": [
    "x_list[1] = 'z'"
   ]
  },
  {
   "cell_type": "code",
   "execution_count": 109,
   "metadata": {},
   "outputs": [
    {
     "data": {
      "text/plain": [
       "['a', 'z', 'c']"
      ]
     },
     "execution_count": 109,
     "metadata": {},
     "output_type": "execute_result"
    }
   ],
   "source": [
    "x_list"
   ]
  },
  {
   "cell_type": "code",
   "execution_count": 110,
   "metadata": {},
   "outputs": [
    {
     "data": {
      "text/plain": [
       "('a', 'b', 'c')"
      ]
     },
     "execution_count": 110,
     "metadata": {},
     "output_type": "execute_result"
    }
   ],
   "source": [
    "x_tuple"
   ]
  },
  {
   "cell_type": "code",
   "execution_count": 111,
   "metadata": {},
   "outputs": [
    {
     "data": {
      "text/plain": [
       "'Return hash(self).'"
      ]
     },
     "execution_count": 111,
     "metadata": {},
     "output_type": "execute_result"
    }
   ],
   "source": [
    "x_tuple.__hash__.__doc__"
   ]
  },
  {
   "cell_type": "code",
   "execution_count": 113,
   "metadata": {},
   "outputs": [
    {
     "name": "stdout",
     "output_type": "stream",
     "text": [
      "a\n",
      "z\n",
      "c\n"
     ]
    }
   ],
   "source": [
    "for x in x_list:\n",
    "    print(x)"
   ]
  },
  {
   "cell_type": "code",
   "execution_count": 114,
   "metadata": {},
   "outputs": [
    {
     "name": "stdout",
     "output_type": "stream",
     "text": [
      "a\n",
      "b\n",
      "c\n"
     ]
    }
   ],
   "source": [
    "for x in x_tuple:\n",
    "    print(x)"
   ]
  },
  {
   "cell_type": "code",
   "execution_count": null,
   "metadata": {},
   "outputs": [],
   "source": []
  },
  {
   "cell_type": "code",
   "execution_count": null,
   "metadata": {},
   "outputs": [],
   "source": []
  },
  {
   "cell_type": "markdown",
   "metadata": {},
   "source": [
    "## None\n",
    "\n",
    "None is a special constant in Python. It is a null value. None is not the same as False. None is not 0. None is not an empty string. Comparing None to anything other than None will always return False.\n",
    "\n",
    "None is the only null value. It has its own datatype (NoneType). You can assign None to any variable, but you can not create other NoneType objects. All variables whose value is None are equal to each other.\n",
    "\n",
    "```python\n",
    ">>> type(None)\n",
    "<class 'NoneType'>\n",
    ">>> None == False\n",
    "False\n",
    ">>> None == 0\n",
    "False\n",
    ">>> None == ''\n",
    "False\n",
    ">>> None == None\n",
    "True\n",
    ">>> x = None\n",
    ">>> x == None\n",
    "True\n",
    ">>> y = None\n",
    ">>> x == y\n",
    "True\n",
    "```"
   ]
  },
  {
   "cell_type": "markdown",
   "metadata": {},
   "source": [
    "### None in a Boolean Context\n",
    "\n",
    "In a boolean context, None is false and not None is true.\n",
    "\n",
    "```python\n",
    ">>> def is_it_true(anything):\n",
    "...   if anything:\n",
    "...     print(\"yes, it's true\")\n",
    "...   else:\n",
    "...     print(\"no, it's false\")\n",
    "...\n",
    ">>> is_it_true(None)\n",
    "no, it's false\n",
    ">>> is_it_true(not None)\n",
    "yes, it's true\n",
    "```"
   ]
  },
  {
   "cell_type": "code",
   "execution_count": null,
   "metadata": {},
   "outputs": [],
   "source": []
  },
  {
   "cell_type": "code",
   "execution_count": null,
   "metadata": {},
   "outputs": [],
   "source": []
  },
  {
   "cell_type": "code",
   "execution_count": null,
   "metadata": {},
   "outputs": [],
   "source": []
  },
  {
   "cell_type": "code",
   "execution_count": null,
   "metadata": {},
   "outputs": [],
   "source": []
  },
  {
   "cell_type": "code",
   "execution_count": 1,
   "metadata": {},
   "outputs": [
    {
     "data": {
      "text/html": [
       "<link href='http://fonts.googleapis.com/css?family=Fenix' rel='stylesheet' type='text/css'>\n",
       "<link href='http://fonts.googleapis.com/css?family=Alegreya+Sans:100,300,400,500,700,800,900,100italic,300italic,400italic,500italic,700italic,800italic,900italic' rel='stylesheet' type='text/css'>\n",
       "<link href='http://fonts.googleapis.com/css?family=Source+Code+Pro:300,400' rel='stylesheet' type='text/css'>\n",
       "<style>\n",
       "    @font-face {\n",
       "        font-family: \"Computer Modern\";\n",
       "        src: url('http://mirrors.ctan.org/fonts/cm-unicode/fonts/otf/cmunss.otf');\n",
       "    }\n",
       "    div.cell{\n",
       "        width:600px;\n",
       "        margin-left:16% !important;\n",
       "        margin-right:auto;\n",
       "    }\n",
       "    h1 {\n",
       "        font-family: 'Alegreya Sans', sans-serif;\n",
       "    }\n",
       "    h2 {\n",
       "        font-family: 'Fenix', serif;\n",
       "    }\n",
       "    h3{\n",
       "\t\tfont-family: 'Fenix', serif;\n",
       "        margin-top:12px;\n",
       "        margin-bottom: 3px;\n",
       "       }\n",
       "\th4{\n",
       "\t\tfont-family: 'Fenix', serif;\n",
       "       }\n",
       "    h5 {\n",
       "        font-family: 'Alegreya Sans', sans-serif;\n",
       "    }\t   \n",
       "    div.text_cell_render{\n",
       "        font-family: 'Alegreya Sans',Computer Modern, \"Helvetica Neue\", Arial, Helvetica, Geneva, sans-serif;\n",
       "        line-height: 135%;\n",
       "        font-size: 120%;\n",
       "        width:600px;\n",
       "        margin-left:auto;\n",
       "        margin-right:auto;\n",
       "    }\n",
       "    .CodeMirror{\n",
       "            font-family: \"Source Code Pro\";\n",
       "\t\t\tfont-size: 90%;\n",
       "    }\n",
       "/*    .prompt{\n",
       "        display: None;\n",
       "    }*/\n",
       "    .text_cell_render h1 {\n",
       "        font-weight: 200;\n",
       "        font-size: 50pt;\n",
       "\t\tline-height: 100%;\n",
       "        color:#054BCD;\n",
       "        margin-bottom: 0.5em;\n",
       "        margin-top: 0.5em;\n",
       "        display: block;\n",
       "    }\t\n",
       "    .text_cell_render h5 {\n",
       "        font-weight: 300;\n",
       "        font-size: 16pt;\n",
       "        color: #054BCD;\n",
       "        font-style: italic;\n",
       "        margin-bottom: .5em;\n",
       "        margin-top: 0.5em;\n",
       "        display: block;\n",
       "    }\n",
       "    \n",
       "    .warning{\n",
       "        color: rgb( 240, 20, 20 )\n",
       "        }  \n",
       "</style>\n",
       "<script>\n",
       "    MathJax.Hub.Config({\n",
       "                        TeX: {\n",
       "                           extensions: [\"AMSmath.js\"]\n",
       "                           },\n",
       "                tex2jax: {\n",
       "                    inlineMath: [ ['$','$'], [\"\\\\(\",\"\\\\)\"] ],\n",
       "                    displayMath: [ ['$$','$$'], [\"\\\\[\",\"\\\\]\"] ]\n",
       "                },\n",
       "                displayAlign: 'center', // Change this to 'center' to center equations.\n",
       "                \"HTML-CSS\": {\n",
       "                    styles: {'.MathJax_Display': {\"margin\": 4}}\n",
       "                }\n",
       "        });\n",
       "</script>\n"
      ],
      "text/plain": [
       "<IPython.core.display.HTML object>"
      ]
     },
     "execution_count": 1,
     "metadata": {},
     "output_type": "execute_result"
    }
   ],
   "source": [
    "# css style\n",
    "from IPython.core.display import HTML\n",
    "def css_styling():\n",
    "    styles = open(\"../styles/custom.css\", \"r\").read()\n",
    "    return HTML(styles)\n",
    "css_styling()"
   ]
  },
  {
   "cell_type": "code",
   "execution_count": null,
   "metadata": {},
   "outputs": [],
   "source": []
  }
 ],
 "metadata": {
  "kernelspec": {
   "display_name": "Python 3",
   "language": "python",
   "name": "python3"
  },
  "language_info": {
   "codemirror_mode": {
    "name": "ipython",
    "version": 3
   },
   "file_extension": ".py",
   "mimetype": "text/x-python",
   "name": "python",
   "nbconvert_exporter": "python",
   "pygments_lexer": "ipython3",
   "version": "3.6.9"
  }
 },
 "nbformat": 4,
 "nbformat_minor": 4
}
