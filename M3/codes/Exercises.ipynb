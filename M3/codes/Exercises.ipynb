{
 "cells": [
  {
   "cell_type": "markdown",
   "metadata": {},
   "source": [
    "# Numbers"
   ]
  },
  {
   "cell_type": "markdown",
   "metadata": {},
   "source": [
    "##  Creating formulas\n",
    "\n",
    "Write the following mathematical formula in Python:\n",
    "\n",
    "\\begin{align}\n",
    " result = 6a^3 - \\frac{8b^2 }{4c} + 11\n",
    "\\end{align}\n",
    "\n",
    "```python\n",
    "a = 2\n",
    "b = 3\n",
    "c = 2\n",
    "```\n",
    "\n",
    "> write your formula as \n",
    "```python\n",
    "result = \n",
    "```\n",
    "\n",
    "It must verify\n",
    "```python\n",
    ">>> assert result == 50\n",
    "```\n",
    "\n",
    "## Floating point pitfalls\n",
    "\n",
    "Show that `0.1 + 0.2 == 0.3`"
   ]
  },
  {
   "cell_type": "markdown",
   "metadata": {},
   "source": [
    "# Lists"
   ]
  },
  {
   "cell_type": "markdown",
   "metadata": {},
   "source": [
    "## Fill the missing pieces\n",
    "\n",
    "Fill the `____` parts of the code below.\n",
    "\n",
    "```python\n",
    "# Let's create an empty list\n",
    "my_list = ____\n",
    "\n",
    "# Let's add some values\n",
    "my_list.____('Python')\n",
    "my_list.____('is ok')\n",
    "my_list.____('sometimes')\n",
    "\n",
    "# Let's remove 'sometimes'\n",
    "my_list.____('sometimes')\n",
    "\n",
    "# Let's change the second item\n",
    "my_list[____] = 'is neat'\n",
    "```\n",
    "\n",
    "Let's verify that it's correct\n",
    "```python\n",
    ">>> assert my_list == ['Python', 'is neat']\n",
    "```"
   ]
  },
  {
   "cell_type": "markdown",
   "metadata": {},
   "source": [
    "## Create a new list without modifiying the original one\n",
    "\n",
    "```python\n",
    "original = ['I', 'am', 'learning', 'hacking', 'in']\n",
    "```\n",
    "\n",
    "> Your implementation here\n",
    "```python\n",
    "modified = \n",
    "```\n",
    "\n",
    "```python\n",
    ">>> assert original == ['I', 'am', 'learning', 'hacking', 'in']\n",
    ">>> assert modified == ['I', 'am', 'learning', 'lists', 'in', 'Python']\n",
    "```"
   ]
  },
  {
   "cell_type": "markdown",
   "metadata": {},
   "source": [
    "## Create a merged sorted list\n",
    "\n",
    "```python\n",
    "list1 = [6, 12, 5]\n",
    "list2 = [6.2, 0, 14, 1]\n",
    "list3 = [0.9]\n",
    "```\n",
    "\n",
    "> Your implementation here\n",
    "```python\n",
    "my_list =\n",
    "```\n",
    "\n",
    "```python\n",
    ">>> assert my_list == [14, 12, 6.2, 6, 5, 1, 0.9, 0]\n",
    "```"
   ]
  },
  {
   "cell_type": "markdown",
   "metadata": {},
   "source": [
    "# Dictionaries"
   ]
  },
  {
   "cell_type": "markdown",
   "metadata": {},
   "source": [
    "## Populating a dictionary\n",
    "\n",
    "Create a dictionary by using all the given variables.\n",
    "\n",
    "```python\n",
    "first_name = 'John'\n",
    "last_name = 'Doe'\n",
    "favorite_hobby = 'Python'\n",
    "sports_hobby = 'gym'\n",
    "age = 82\n",
    "```\n",
    "\n",
    "> Your implementation\n",
    "```python\n",
    "my_dict =\n",
    "```\n",
    "\n",
    "```python\n",
    ">>> assert my_dict == {\n",
    "        'name': 'John Doe',\n",
    "        'age': 82,\n",
    "        'hobbies': ['Python', 'gym']\n",
    "    }\n",
    "```"
   ]
  },
  {
   "cell_type": "markdown",
   "metadata": {},
   "source": [
    "## Accessing and merging dictionaries\n",
    "\n",
    "Combine `dict1`, `dict2`, and `dict3` into `my_dict`. In addition, get the value of `special_key` from `my_dict` into a `special_value` variable. Note that original dictionaries should stay untouched and `special_key` should be removed from `my_dict`.\n",
    "\n",
    "```python\n",
    "dict1 = dict(key1='This is not that hard', key2='Python is still cool')\n",
    "dict2 = {'key1': 123, 'special_key': 'secret'}\n",
    "# This is also a away to initialize a dict (list of tuples) \n",
    "dict3 = dict([('key2', 456), ('keyX', 'X')])\n",
    "```\n",
    "\n",
    "> Your impelementation\n",
    "```python\n",
    "my_dict = \n",
    "special_value = \n",
    "```\n",
    "\n",
    "```python\n",
    ">>> assert my_dict == {'key1': 123, 'key2': 456, 'keyX': 'X'}\n",
    ">>> assert special_value == 'secret'\n",
    "\n",
    ">>> # Let's check that the originals are untouched\n",
    ">>> assert dict1 == {\n",
    "        'key1': 'This is not that hard',\n",
    "        'key2': 'Python is still cool'\n",
    "    }\n",
    ">>> assert dict2 == {'key1': 123, 'special_key': 'secret'}\n",
    ">>> assert dict3 == {'key2': 456, 'keyX': 'X'}\n",
    "```"
   ]
  },
  {
   "cell_type": "markdown",
   "metadata": {},
   "source": [
    "# Functions"
   ]
  },
  {
   "cell_type": "markdown",
   "metadata": {},
   "source": [
    "## Fill the missing pieces of the `count_even_numbers` function\n",
    "\n",
    "Fill `____` pieces of the `count_even_numbers` implemention in order to pass the assertions. You can assume that `numbers` argument is a list of integers.\n",
    "\n",
    "```python\n",
    "____ count_even_numbers(numbers):\n",
    "    count = 0\n",
    "    for num in ____:\n",
    "        if ____ % 2 == ____:\n",
    "            count += ____\n",
    "    _____ _____\n",
    "```\n",
    "\n",
    "```python\n",
    ">>> assert count_even_numbers([1, 2, 3, 4, 5, 6]) == 3\n",
    ">>> assert count_even_numbers([1, 3, 5, 7]) == 0\n",
    ">>> assert count_even_numbers([-2, 2, -10, 8]) == 4\n",
    "```"
   ]
  },
  {
   "cell_type": "markdown",
   "metadata": {},
   "source": [
    "## Searching for wanted people\n",
    "\n",
    "Implement `find_wanted_people` function which takes a list of names (strings) as argument. The function should return a list of names which are present both in `WANTED_PEOPLE` and in the name list given as argument to the function.\n",
    "\n",
    "```python\n",
    "WANTED_PEOPLE = ['John Doe', 'Clint Eastwood', 'Chuck Norris']\n",
    "```\n",
    "\n",
    "> Your implementation here\n",
    "\n",
    "```python\n",
    ">>> people_to_check1 = ['Donald Duck', 'Clint Eastwood', 'John Doe', 'Barack Obama']\n",
    ">>> wanted1 = find_wanted_people(people_to_check1)\n",
    ">>> assert len(wanted1) == 2\n",
    ">>> assert 'John Doe' in wanted1\n",
    ">>> assert 'Clint Eastwood'in wanted1\n",
    "\n",
    ">>> people_to_check2 = ['Donald Duck', 'Mickey Mouse', 'Zorro', 'Superman', 'Robin Hood']\n",
    ">>> wanted2 = find_wanted_people(people_to_check2)\n",
    ">>> assert wanted2 == []\n",
    "```"
   ]
  },
  {
   "cell_type": "markdown",
   "metadata": {},
   "source": [
    "## Counting average length of words in a sentence\n",
    "\n",
    "Create a function `average_length_of_words` which takes a string as an argument and returns the average length of the words in the string. You can assume that there is a single space between each word and that the input does not have punctuation. The result should be rounded to one decimal place (hint: see [`round`](https://docs.python.org/3/library/functions.html#round)).\n",
    "\n",
    "> Your implementation here\n",
    "\n",
    "```python\n",
    ">>> assert average_length_of_words('only four lett erwo rdss') == 4\n",
    ">>> assert average_length_of_words('one two three') == 3.7\n",
    ">>> assert average_length_of_words('one two three four') == 3.8\n",
    ">>> assert average_length_of_words('') == 0\n",
    "```"
   ]
  },
  {
   "cell_type": "markdown",
   "metadata": {},
   "source": []
  },
  {
   "cell_type": "markdown",
   "metadata": {},
   "source": []
  },
  {
   "cell_type": "markdown",
   "metadata": {},
   "source": []
  }
 ],
 "metadata": {
  "kernelspec": {
   "display_name": "Python 3",
   "language": "python",
   "name": "python3"
  },
  "language_info": {
   "codemirror_mode": {
    "name": "ipython",
    "version": 3
   },
   "file_extension": ".py",
   "mimetype": "text/x-python",
   "name": "python",
   "nbconvert_exporter": "python",
   "pygments_lexer": "ipython3",
   "version": "3.6.9"
  }
 },
 "nbformat": 4,
 "nbformat_minor": 4
}
