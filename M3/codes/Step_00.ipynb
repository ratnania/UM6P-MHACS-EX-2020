{
 "cells": [
  {
   "cell_type": "markdown",
   "metadata": {
    "colab_type": "text",
    "id": "view-in-github"
   },
   "source": [
    "<a href=\"https://colab.research.google.com/github/ratnania/UM6P-MHACS-EX-2020/blob/master/M3/codes/Step_00.ipynb\" target=\"_parent\"><img src=\"https://colab.research.google.com/assets/colab-badge.svg\" alt=\"Open In Colab\"/></a>"
   ]
  },
  {
   "cell_type": "markdown",
   "metadata": {},
   "source": [
    "# The Zen Of Python"
   ]
  },
  {
   "cell_type": "code",
   "execution_count": 1,
   "metadata": {},
   "outputs": [
    {
     "name": "stdout",
     "output_type": "stream",
     "text": [
      "The Zen of Python, by Tim Peters\n",
      "\n",
      "Beautiful is better than ugly.\n",
      "Explicit is better than implicit.\n",
      "Simple is better than complex.\n",
      "Complex is better than complicated.\n",
      "Flat is better than nested.\n",
      "Sparse is better than dense.\n",
      "Readability counts.\n",
      "Special cases aren't special enough to break the rules.\n",
      "Although practicality beats purity.\n",
      "Errors should never pass silently.\n",
      "Unless explicitly silenced.\n",
      "In the face of ambiguity, refuse the temptation to guess.\n",
      "There should be one-- and preferably only one --obvious way to do it.\n",
      "Although that way may not be obvious at first unless you're Dutch.\n",
      "Now is better than never.\n",
      "Although never is often better than *right* now.\n",
      "If the implementation is hard to explain, it's a bad idea.\n",
      "If the implementation is easy to explain, it may be a good idea.\n",
      "Namespaces are one honking great idea -- let's do more of those!\n"
     ]
    }
   ],
   "source": [
    "import this"
   ]
  },
  {
   "cell_type": "markdown",
   "metadata": {
    "colab": {},
    "colab_type": "code",
    "id": "GYEb1e4U38ML"
   },
   "source": [
    "# Your first programs with Python"
   ]
  },
  {
   "cell_type": "code",
   "execution_count": 2,
   "metadata": {},
   "outputs": [],
   "source": [
    "SUFFIXES = {1000: ['KB', 'MB', 'GB', 'TB', 'PB', 'EB', 'ZB', 'YB'],\n",
    "            1024: ['KiB', 'MiB', 'GiB', 'TiB', 'PiB', 'EiB', 'ZiB', 'YiB']}\n",
    "\n",
    "def approximate_size(size, a_kilobyte_is_1024_bytes=True):\n",
    "    '''Convert a file size to human-readable form.\n",
    "\n",
    "    Keyword arguments:\n",
    "    size -- file size in bytes\n",
    "    a_kilobyte_is_1024_bytes -- if True (default), use multiples of 1024\n",
    "                                if False, use multiples of 1000\n",
    "\n",
    "    Returns: string\n",
    "\n",
    "    '''\n",
    "    if size < 0:\n",
    "        raise ValueError('number must be non-negative')\n",
    "\n",
    "    multiple = 1024 if a_kilobyte_is_1024_bytes else 1000\n",
    "    for suffix in SUFFIXES[multiple]:\n",
    "        size /= multiple\n",
    "        if size < multiple:\n",
    "            return '{0:.1f} {1}'.format(size, suffix)\n",
    "\n",
    "    raise ValueError('number too large')"
   ]
  },
  {
   "cell_type": "code",
   "execution_count": 3,
   "metadata": {},
   "outputs": [
    {
     "name": "stdout",
     "output_type": "stream",
     "text": [
      "1.0 TB\n"
     ]
    }
   ],
   "source": [
    "print(approximate_size(1000000000000, False))"
   ]
  },
  {
   "cell_type": "code",
   "execution_count": 4,
   "metadata": {},
   "outputs": [
    {
     "name": "stdout",
     "output_type": "stream",
     "text": [
      "931.3 GiB\n"
     ]
    }
   ],
   "source": [
    "print(approximate_size(1000000000000))"
   ]
  },
  {
   "cell_type": "markdown",
   "metadata": {},
   "source": [
    "## Declaring Functions"
   ]
  },
  {
   "cell_type": "markdown",
   "metadata": {},
   "source": [
    "Python has functions like most other languages, but it does not have separate header files like c++ or interface/implementation sections like Pascal. When you need a function, just declare it, like this:\n",
    "\n",
    "```python\n",
    "def approximate_size(size, a_kilobyte_is_1024_bytes=True):\n",
    "```\n",
    "\n",
    "The keyword **def** starts the function declaration, followed by the function name, followed by the arguments in parentheses. Multiple arguments are separated with commas.\n",
    "\n",
    "Also note that the function doesn’t define a return datatype. Python functions do not specify the datatype of their return value; they don’t even specify whether or not they return a value. (In fact, every Python function returns a value; if the function ever executes a **return** statement, it will return that value, otherwise it will return **None**, the Python null value.)\n",
    "\n",
    "> In some languages, functions (that return a value) start with **function**, and subroutines (that do not return a value) start with **sub**. There are no subroutines in Python. Everything is a function, all functions return a value (even if it’s **None**), and all functions start with **def**.\n",
    "\n",
    "The **approximate_size()** function takes the two arguments — **size** and **a_kilobyte_is_1024_bytes** — but neither argument specifies a datatype. In Python, variables are never explicitly typed. Python figures out what type a variable is and keeps track of it internally.\n",
    "\n",
    "> In Java and other statically-typed languages, you must specify the datatype of the function return value and each function argument. In Python, you never explicitly specify the datatype of anything. Based on what value you assign, Python keeps track of the datatype internally."
   ]
  },
  {
   "cell_type": "markdown",
   "metadata": {},
   "source": [
    "### Optional and Named Arguments"
   ]
  },
  {
   "cell_type": "markdown",
   "metadata": {},
   "source": [
    "Python allows function arguments to have default values; if the function is called without the argument, the argument gets its default value. Furthermore, arguments can be specified in any order by using named arguments.\n",
    "\n",
    "Let’s take another look at that **approximate_size()** function declaration:\n",
    "\n",
    "```python\n",
    "def approximate_size(size, a_kilobyte_is_1024_bytes=True):\n",
    "```\n",
    "\n",
    "The second argument, **a_kilobyte_is_1024_bytes**, specifies a default value of **True**. This means the argument is **optional**; you can call the function without it, and Python will act as if you had called it with True as a second parameter.\n",
    "\n",
    "The following is a call to the **approximate_size()** function with two arguments. Within the **approximate_size()** function, **a_kilobyte_is_1024_bytes** will be **False**, since you explicitly passed False as the second argument.\n",
    "\n",
    "```python\n",
    "print(approximate_size(1000000000000, False))\n",
    "```\n",
    "\n",
    "The following is a call to the **approximate_size()** function with only one argument. But that’s OK, because the second argument is optional! Since the caller doesn’t specify, the second argument defaults to **True**, as defined by the function declaration.\n",
    "You can also pass values into a function by name.\n",
    "\n",
    "```python\n",
    "print(approximate_size(1000000000000))\n",
    "```\n",
    "\n",
    "\n"
   ]
  },
  {
   "cell_type": "markdown",
   "metadata": {},
   "source": [
    "## Writing Readable Code using docstring"
   ]
  },
  {
   "cell_type": "markdown",
   "metadata": {},
   "source": [
    "You can document a Python function by giving it a documentation string (docstring for short). In this program, **the approximate_size()** function has a **docstring**:\n",
    "\n",
    "```python\n",
    "def approximate_size(size, a_kilobyte_is_1024_bytes=True):\n",
    "    '''Convert a file size to human-readable form.\n",
    "\n",
    "    Keyword arguments:\n",
    "    size -- file size in bytes\n",
    "    a_kilobyte_is_1024_bytes -- if True (default), use multiples of 1024\n",
    "                                if False, use multiples of 1000\n",
    "\n",
    "    Returns: string\n",
    "\n",
    "    '''\n",
    "```\n",
    "\n",
    "Triple quotes signify a multi-line string. Everything between the start and end quotes is part of a single string, including carriage returns, leading white space, and other quote characters. You can use them anywhere, but you’ll see them most often used when defining a docstring.\n",
    "\n",
    "> Triple quotes are also an easy way to define a string with both single and double quotes, like qq/.../ in Perl 5.\n",
    "\n",
    "Everything between the triple quotes is the function’s docstring, which documents what the function does. A docstring, if it exists, must be the first thing defined in a function (that is, on the next line after the function declaration). You don’t technically need to give your function a docstring, but you always should. I know you’ve heard this in every programming class you’ve ever taken, but Python gives you an added incentive: the docstring is available at runtime as an attribute of the function.\n",
    "\n",
    "> Many Python ides use the docstring to provide context-sensitive documentation, so that when you type a function name, its docstring appears as a tooltip. This can be incredibly helpful, but it’s only as good as the docstrings you write."
   ]
  },
  {
   "cell_type": "markdown",
   "metadata": {},
   "source": [
    "## Everything is An Object\n",
    "\n",
    "In case you missed it, I just said that Python functions have attributes, and that those attributes are available at runtime. A function, like everything else in Python, is an object.\n",
    "\n",
    "Run the interactive Python shell and follow along:\n",
    "\n",
    "**TODO: ADD EXAMPLES**\n",
    "\n",
    "> **import** in Python is like **require** in Perl. Once you import a Python module, you access its functions with module.function; once you require a Perl module, you access its functions with module::function.\n",
    "\n"
   ]
  },
  {
   "cell_type": "markdown",
   "metadata": {},
   "source": [
    "### What's an Object?\n",
    "\n",
    "Everything in Python is an object, and everything can have attributes and methods. All functions have a built-in attribute **__doc__**, which returns the docstring defined in the function’s source code. The **sys** module is an object which has (among other things) an attribute called path. And so forth.\n",
    "\n",
    "Still, this doesn’t answer the more fundamental question: what is an object? Different programming languages define “object” in different ways. In some, it means that all objects must have attributes and methods; in others, it means that all objects are subclassable. In Python, the definition is looser. Some objects have neither attributes nor methods, but they could. Not all objects are subclassable. But everything is an object in the sense that it can be assigned to a variable or passed as an argument to a function.\n",
    "\n",
    "You may have heard the term **“first-class object”** in other programming contexts. In Python, functions are first-class objects. You can pass a function as an argument to another function. Modules are first-class objects. You can pass an entire module as an argument to a function. Classes are first-class objects, and individual instances of a class are also first-class objects.\n",
    "\n",
    "This is important, so I’m going to repeat it in case you missed it the first few times: **everything in Python is an object**. Strings are objects. Lists are objects. Functions are objects. Classes are objects. Class instances are objects. Even modules are objects."
   ]
  },
  {
   "cell_type": "markdown",
   "metadata": {},
   "source": [
    "## Indenting Code\n",
    "\n",
    "Python functions have no explicit begin or end, and no curly braces to mark where the function code starts and stops. The only delimiter is a colon (:) and the indentation of the code itself.\n",
    "\n",
    "```python\n",
    "def approximate_size(size, a_kilobyte_is_1024_bytes=True):  ①\n",
    "    if size < 0:                                            ②\n",
    "        raise ValueError('number must be non-negative')     ③\n",
    "                                                            ④\n",
    "    multiple = 1024 if a_kilobyte_is_1024_bytes else 1000\n",
    "    for suffix in SUFFIXES[multiple]:                       ⑤\n",
    "        size /= multiple\n",
    "        if size < multiple:\n",
    "            return '{0:.1f} {1}'.format(size, suffix)\n",
    "\n",
    "    raise ValueError('number too large')\n",
    "```\n",
    "\n",
    "①\tCode blocks are defined by their indentation. By “code block,” I mean functions, if statements, for loops, while loops, and so forth. Indenting starts a block and unindenting ends it. There are no explicit braces, brackets, or keywords. This means that whitespace is significant, and must be consistent. In this example, the function code is indented four spaces. It doesn’t need to be four spaces, it just needs to be consistent. The first line that is not indented marks the end of the function.\n",
    "\n",
    "②\tIn Python, an if statement is followed by a code block. If the if expression evaluates to true, the indented block is executed, otherwise it falls to the else block (if any). Note the lack of parentheses around the expression.\n",
    "\n",
    "③\tThis line is inside the if code block. This raise statement will raise an exception (of type ValueError), but only if size < 0.\n",
    "\n",
    "④\tThis is not the end of the function. Completely blank lines don’t count. They can make the code more readable, but they don’t count as code block delimiters. The function continues on the next line.\n",
    "\n",
    "⑤\tThe for loop also marks the start of a code block. Code blocks can contain multiple lines, as long as they are all indented the same amount. This for loop has three lines of code in it. There is no other special syntax for multi-line code blocks. Just indent and get on with your life.\n",
    "\n",
    "After some initial protests and several snide analogies to Fortran, you will make peace with this and start seeing its benefits. One major benefit is that all Python programs look similar, since indentation is a language requirement and not a matter of style. This makes it easier to read and understand other people’s Python code.\n",
    "\n",
    "> Python uses carriage returns to separate statements and a colon and indentation to separate code blocks. c++ and Java use semicolons to separate statements and curly braces to separate code blocks."
   ]
  },
  {
   "cell_type": "markdown",
   "metadata": {},
   "source": [
    "## Exceptions\n",
    "\n",
    "Exceptions are everywhere in Python. Virtually every module in the standard Python library uses them, and Python itself will raise them in a lot of different circumstances. You’ll see them repeatedly throughout this book.\n",
    "\n",
    "What is an exception? Usually it’s an error, an indication that something went wrong. (Not all exceptions are errors, but never mind that for now.) Some programming languages encourage the use of error return codes, which you check. Python encourages the use of exceptions, which you handle.\n",
    "\n",
    "When an error occurs in the Python Shell, it prints out some details about the exception and how it happened, and that’s that. This is called an unhandled exception. When the exception was raised, there was no code to explicitly notice it and deal with it, so it bubbled its way back up to the top level of the Python Shell, which spits out some debugging information and calls it a day. In the shell, that's no big deal, but if that happened while your actual Python program was running, the entire program would come to a screeching halt if nothing handles the exception. Maybe that’s what you want, maybe it isn’t.\n",
    "\n",
    "> Unlike Java, Python functions don’t declare which exceptions they might raise. It’s up to you to determine what possible exceptions you need to catch.\n",
    "\n",
    "An exception doesn’t need to result in a complete program crash, though. Exceptions can be handled. Sometimes an exception is really because you have a bug in your code (like accessing a variable that doesn’t exist), but sometimes an exception is something you can anticipate. If you’re opening a file, it might not exist. If you’re importing a module, it might not be installed. If you’re connecting to a database, it might be unavailable, or you might not have the correct security credentials to access it. If you know a line of code may raise an exception, you should handle the exception using a try...except block.\n",
    "\n",
    "> Python uses try...except blocks to handle exceptions, and the raise statement to generate them. Java and c++ use try...catch blocks to handle exceptions, and the throw statement to generate them.\n",
    "\n",
    "The approximate_size() function raises exceptions in two different cases: if the given size is larger than the function is designed to handle, or if it’s less than zero.\n",
    "\n",
    "```python\n",
    "if size < 0:\n",
    "    raise ValueError('number must be non-negative')\n",
    "```\n",
    "\n",
    "The syntax for raising an exception is simple enough. Use the raise statement, followed by the exception name, and an optional human-readable string for debugging purposes. The syntax is reminiscent of calling a function. (In reality, exceptions are implemented as classes, and this raise statement is actually creating an instance of the ValueError class and passing the string 'number must be non-negative' to its initialization method.\n",
    "\n",
    "> You don’t need to handle an exception in the function that raises it. If one function doesn’t handle it, the exception is passed to the calling function, then that function’s calling function, and so on “up the stack.” If the exception is never handled, your program will crash, Python will print a “traceback” to standard error, and that’s the end of that. Again, maybe that’s what you want; it depends on what your program does."
   ]
  },
  {
   "cell_type": "markdown",
   "metadata": {},
   "source": [
    "### Catching Import Errors\n",
    "\n",
    "One of Python’s built-in exceptions is ImportError, which is raised when you try to import a module and fail. This can happen for a variety of reasons, but the simplest case is when the module doesn’t exist in your import search path. You can use this to include optional features in your program. For example, the chardet library provides character encoding auto-detection. Perhaps your program wants to use this library if it exists, but continue gracefully if the user hasn’t installed it. You can do this with a try..except block.\n",
    "\n",
    "```python\n",
    "try:\n",
    "  import chardet\n",
    "except ImportError:\n",
    "  chardet = None\n",
    "```\n",
    "\n",
    "Later, you can check for the presence of the chardet module with a simple if statement:\n",
    "\n",
    "```python\n",
    "if chardet:\n",
    "  # do something\n",
    "else:\n",
    "  # continue anyway\n",
    "```\n",
    "\n",
    "Another common use of the ImportError exception is when two modules implement a common api, but one is more desirable than the other. (Maybe it’s faster, or it uses less memory.) You can try to import one module but fall back to a different module if the first import fails. For example, the XML chapter talks about two modules that implement a common api, called the ElementTree api. The first, lxml, is a third-party module that you need to download and install yourself. The second, xml.etree.ElementTree, is slower but is part of the Python 3 standard library.\n",
    "\n",
    "```python\n",
    "try:\n",
    "    from lxml import etree\n",
    "except ImportError:\n",
    "    import xml.etree.ElementTree as etree\n",
    "```\n",
    "\n",
    "By the end of this try..except block, you have imported some module and named it etree. Since both modules implement a common api, the rest of your code doesn’t need to keep checking which module got imported. And since the module that did get imported is always called etree, the rest of your code doesn’t need to be littered with if statements to call differently-named modules."
   ]
  },
  {
   "cell_type": "markdown",
   "metadata": {},
   "source": [
    "## Unbound Variables\n",
    "\n",
    "Take another look at this line of code from the approximate_size() function:\n",
    "\n",
    "```python\n",
    "multiple = 1024 if a_kilobyte_is_1024_bytes else 1000\n",
    "```\n",
    "\n",
    "You never declare the variable multiple, you just assign a value to it. That’s OK, because Python lets you do that. What Python will not let you do is reference a variable that has never been assigned a value. Trying to do so will raise a NameError exception.\n",
    "\n",
    "```python\n",
    ">>> x\n",
    "Traceback (most recent call last):\n",
    "  File \"<stdin>\", line 1, in <module>\n",
    "NameError: name 'x' is not defined\n",
    ">>> x = 1\n",
    ">>> x\n",
    "1\n",
    "```\n",
    "\n",
    "You will thank Python for this one day."
   ]
  },
  {
   "cell_type": "markdown",
   "metadata": {},
   "source": [
    "## Everything is Case-Sensitive\n",
    "\n",
    "All names in Python are case-sensitive: variable names, function names, class names, module names, exception names. If you can get it, set it, call it, construct it, import it, or raise it, it’s case-sensitive.\n",
    "\n",
    "```python\n",
    ">>> an_integer = 1\n",
    ">>> an_integer\n",
    "1\n",
    ">>> AN_INTEGER\n",
    "Traceback (most recent call last):\n",
    "  File \"<stdin>\", line 1, in <module>\n",
    "NameError: name 'AN_INTEGER' is not defined\n",
    ">>> An_Integer\n",
    "Traceback (most recent call last):\n",
    "  File \"<stdin>\", line 1, in <module>\n",
    "NameError: name 'An_Integer' is not defined\n",
    ">>> an_inteGer\n",
    "Traceback (most recent call last):\n",
    "  File \"<stdin>\", line 1, in <module>\n",
    "NameError: name 'an_inteGer' is not defined\n",
    "```\n",
    "\n",
    "And so on."
   ]
  },
  {
   "cell_type": "code",
   "execution_count": null,
   "metadata": {},
   "outputs": [],
   "source": []
  }
 ],
 "metadata": {
  "colab": {
   "authorship_tag": "ABX9TyM3fOLuA/PRRqfqDB1yiL+g",
   "include_colab_link": true,
   "name": "Step-00.ipynb",
   "provenance": []
  },
  "kernelspec": {
   "display_name": "Python 3",
   "language": "python",
   "name": "python3"
  },
  "language_info": {
   "codemirror_mode": {
    "name": "ipython",
    "version": 3
   },
   "file_extension": ".py",
   "mimetype": "text/x-python",
   "name": "python",
   "nbconvert_exporter": "python",
   "pygments_lexer": "ipython3",
   "version": "3.6.9"
  }
 },
 "nbformat": 4,
 "nbformat_minor": 1
}
