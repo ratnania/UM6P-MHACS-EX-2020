{
 "cells": [
  {
   "cell_type": "markdown",
   "metadata": {},
   "source": [
    "# The Standard Library"
   ]
  },
  {
   "cell_type": "markdown",
   "metadata": {},
   "source": [
    "## Data Structures"
   ]
  },
  {
   "cell_type": "markdown",
   "metadata": {},
   "source": [
    "We already saw that Python provides several standard data structures, such as **list**, **tuple**, **dict** and **set, as part of its built-in types.\n",
    "\n",
    "The standard library provides powerful and optimized versions of such data structures."
   ]
  },
  {
   "cell_type": "markdown",
   "metadata": {},
   "source": [
    "### collections : Container Data Types"
   ]
  },
  {
   "cell_type": "markdown",
   "metadata": {},
   "source": [
    "Importing the **collections** module can be done using:\n",
    "```python\n",
    "import collections\n",
    "```\n",
    "\n",
    "#### Counter\n",
    "\n",
    "A **counter** is a collection that tracks how many times equivalent values were added.\n",
    "\n",
    "```python\n",
    ">>> print(collections.Counter(['a', 'b', 'c', 'a', 'b', 'b']))\n",
    "Counter({’b’: 3, ’a’: 2, ’c’: 1})\n",
    ">>> print(collections.Counter({'a': 2, 'b': 3, 'c': 1}))\n",
    "Counter({’b’: 3, ’a’: 2, ’c’: 1})\n",
    ">>> print(collections.Counter(a=2, b=3, c=1))\n",
    "Counter({’b’: 3, ’a’: 2, ’c’: 1})\n",
    "```\n",
    "\n",
    "> An empty **Counter** can be constructed using:\n",
    "```python\n",
    "c = collections.counter()\n",
    "```\n",
    "\n",
    "A **Counter** can be updated using:\n",
    "```python\n",
    ">>> print('Initial :', c)\n",
    "Initial : Counter()\n",
    "    \n",
    ">>> c.update('abcdaab')\n",
    ">>> print('Sequence:', c)\n",
    "Sequence: Counter({’a’: 3, ’b’: 2, ’c’: 1, ’d’: 1})\n",
    "\n",
    ">>> c.update({'a': 1, 'd': 5})\n",
    ">>> print('Dict    :', c)\n",
    "Dict: Counter({’d’: 6, ’a’: 4, ’b’: 2, ’c’: 1})\n",
    "```\n",
    "\n",
    "You can access the counts, once a **Counter** is populated:\n",
    "\n",
    "```python\n",
    ">>> c = collections.Counter('abcdaab')\n",
    "\n",
    ">>> for letter in 'abcde':\n",
    ">>>     print('{} : {}'.format(letter, c[letter]))\n",
    "\n",
    "a : 3\n",
    "b : 2\n",
    "c : 1\n",
    "d : 1\n",
    "e : 0\n",
    "```\n",
    "\n",
    "You can also get an iterator that produces all items known to the **Counter**, using the **elements()** method:\n",
    "\n",
    "```python\n",
    ">>> c = collections.Counter('extremely')\n",
    ">>> c['z'] = 0\n",
    ">>> print(c)\n",
    "Counter({’e’: 3, ’m’: 1, ’l’: 1, ’r’: 1, ’t’: 1, ’y’: 1, ’x’: 1, ’z’: 0})\n",
    ">>> print(list(c.elements()))\n",
    "[’e’, ’e’, ’e’, ’m’, ’l’, ’r’, ’t’, ’y’, ’x’]\n",
    "```\n",
    "\n",
    "**Counter** instances support arithmetic and set operations for aggregating results.\n",
    "\n",
    "```python\n",
    ">>> c1 = collections.Counter(['a', 'b', 'c', 'a', 'b', 'b'])\n",
    ">>> c2 = collections.Counter('alphabet')\n",
    "\n",
    ">>> print('C1:', c1)\n",
    "C1: Counter({’b’: 3, ’a’: 2, ’c’: 1})\n",
    ">>> print('C2:', c2)\n",
    "C2: Counter({’a’: 2, ’b’: 1, ’e’: 1, ’h’: 1, ’l’: 1, ’p’: 1, ’t’: 1})\n",
    "\n",
    ">>> print('\\nCombined counts:')\n",
    ">>> print(c1 + c2)\n",
    "Combined counts:\n",
    "Counter({’a’: 4, ’b’: 4, ’c’: 1, ’e’: 1, ’h’: 1, ’l’: 1, ’p’: 1, ’t’: 1})\n",
    "\n",
    ">>> print('\\nSubtraction:')\n",
    ">>> print(c1 - c2)\n",
    "Subtraction:\n",
    "Counter({’b’: 2, ’c’: 1})\n",
    "\n",
    ">>> print('\\nIntersection (taking positive minimums):')\n",
    ">>> print(c1 & c2)\n",
    "Intersection (taking positive minimums):\n",
    "Counter({’a’: 2, ’b’: 1})\n",
    "\n",
    ">>> print('\\nUnion (taking maximums):')\n",
    ">>> print(c1 | c2)\n",
    "Union (taking maximums):\n",
    "Counter({’b’: 3, ’a’: 2, ’c’: 1, ’e’: 1, ’h’: 1, ’l’: 1, ’p’: 1, ’t’: 1})\n",
    "```"
   ]
  },
  {
   "cell_type": "markdown",
   "metadata": {},
   "source": [
    "#### defaultdict\n",
    "\n",
    "The **defaultdict** lets the user specify the default value when the container is initialized, as in the following example:\n",
    "\n",
    "```python\n",
    "def default_factory():\n",
    "    return 'default value'\n",
    "\n",
    "\n",
    "d = collections.defaultdict(default_factory, foo='bar')\n",
    "print('d:', d)\n",
    "print('foo =>', d['foo'])\n",
    "print('bar =>', d['bar'])\n",
    "```\n",
    "\n",
    "which produces:\n",
    "```shell\n",
    "d: defaultdict(<function default_factory\n",
    "at 0x100d9ba28>, {’foo’: ’bar’})\n",
    "foo => bar\n",
    "bar => default value\n",
    "```\n"
   ]
  },
  {
   "cell_type": "markdown",
   "metadata": {},
   "source": [
    "#### deque\n",
    "\n",
    "This is a double-ended queue. It supports adding and removing elements from either end. \n",
    "\n",
    "```python\n",
    "d = collections.deque('abcdefg')\n",
    "print('Deque:', d)\n",
    "print('Length:', len(d))\n",
    "print('Left end:', d[0])\n",
    "print('Right end:', d[-1])\n",
    "\n",
    "d.remove('c')\n",
    "print('remove(c):', d)\n",
    "```\n",
    "\n",
    "The result is\n",
    "\n",
    "```shell\n",
    "Deque: deque([’a’, ’b’, ’c’, ’d’, ’e’, ’f’, ’g’])\n",
    "Length: 7\n",
    "Left end: a\n",
    "Right end: g\n",
    "remove(c): deque([’a’, ’b’, ’d’, ’e’, ’f’, ’g’])\n",
    "```\n",
    "\n",
    "Populating a **deque** can be done on the left or right:\n",
    "\n",
    "```python\n",
    "# Add to the right\n",
    "d1 = collections.deque()\n",
    "d1.extend('abcdefg')\n",
    "print('extend    :', d1)\n",
    "d1.append('h')\n",
    "print('append    :', d1)\n",
    "\n",
    "# Add to the left\n",
    "d2 = collections.deque()\n",
    "d2.extendleft(range(6))\n",
    "print('extendleft:', d2)\n",
    "d2.appendleft(6)\n",
    "print('appendleft:', d2)\n",
    "```\n",
    "\n",
    "```shell\n",
    "extend: deque([’a’, ’b’, ’c’, ’d’, ’e’, ’f’, ’g’])\n",
    "append: deque([’a’, ’b’, ’c’, ’d’, ’e’, ’f’, ’g’, ’h’])\n",
    "extendleft: deque([5, 4, 3, 2, 1, 0])\n",
    "appendleft: deque([6, 5, 4, 3, 2, 1, 0])\n",
    "```\n",
    "\n",
    "Similary, the elements can be consumed, as when using **pop** for **list**:\n",
    "\n",
    "```python\n",
    "print('From the right:')\n",
    "d = collections.deque('abcdefg')\n",
    "while True:\n",
    "    try:\n",
    "        print(d.pop(), end='')\n",
    "    except IndexError:\n",
    "        break\n",
    "print()\n",
    "\n",
    "print('\\nFrom the left:')\n",
    "d = collections.deque(range(6))\n",
    "while True:\n",
    "    try:\n",
    "        print(d.popleft(), end='')\n",
    "    except IndexError:\n",
    "        break\n",
    "print()\n",
    "```\n",
    "\n",
    "which produces\n",
    "```shell\n",
    "From the right:\n",
    "g f e d c b a\n",
    "From the left:\n",
    "0 1 2 3 4 5\n",
    "```\n",
    "\n",
    "Another interesting method is to rotate in either direction:\n",
    "```python\n",
    "d = collections.deque(range(10))\n",
    "print('Normal        :', d)\n",
    "\n",
    "d = collections.deque(range(10))\n",
    "d.rotate(2)\n",
    "print('Right rotation:', d)\n",
    "\n",
    "d = collections.deque(range(10))\n",
    "d.rotate(-2)\n",
    "print('Left rotation :', d)\n",
    "```\n",
    "\n",
    "which produces\n",
    "```shell\n",
    "Normal : deque([0, 1, 2, 3, 4, 5, 6, 7, 8, 9])\n",
    "Right rotation: deque([8, 9, 0, 1, 2, 3, 4, 5, 6, 7])\n",
    "Left rotation : deque([2, 3, 4, 5, 6, 7, 8, 9, 0, 1])\n",
    "```"
   ]
  },
  {
   "cell_type": "markdown",
   "metadata": {},
   "source": [
    "#### namedtuple\n",
    "\n",
    "In opposition to the built-in **tuple** type, **namedtuple** allows you to access its members using names:\n",
    "\n",
    "```python\n",
    "Person = collections.namedtuple('Person', 'name age')\n",
    "\n",
    "bob = Person(name='Bob', age=30)\n",
    "print('\\nRepresentation:', bob)\n",
    "\n",
    "jane = Person(name='Jane', age=29)\n",
    "print('\\nField by name:', jane.name)\n",
    "\n",
    "print('\\nFields by index:')\n",
    "for p in [bob, jane]:\n",
    "    print('{} is {} years old'.format(*p))\n",
    "```\n",
    "\n",
    "which produces\n",
    "\n",
    "```shell\n",
    "Type of Person: <type ’type’>\n",
    "Representation: Person(name=’Bob’, age=30, gender=’male’)\n",
    "Field by name: Jane\n",
    "Fields by index:\n",
    "Bob is a 30 year old male\n",
    "Jane is a 29 year old female\n",
    "```\n",
    "\n",
    "> Field names are invalid if they are repeated or conflict with Python keywords."
   ]
  },
  {
   "cell_type": "markdown",
   "metadata": {},
   "source": [
    "#### OrderedDict\n",
    "\n",
    "An **OrderedDict** is a dictionary subclass that remembers the order in which its contents were added.\n",
    "\n",
    "> The built-in **dict** does not track the insertion order.\n",
    "\n",
    "```python\n",
    "print('Regular dictionary:')\n",
    "d = {}\n",
    "d['a'] = 'A'\n",
    "d['b'] = 'B'\n",
    "d['c'] = 'C'\n",
    "\n",
    "for k, v in d.items():\n",
    "    print(k, v)\n",
    "\n",
    "print('\\nOrderedDict:')\n",
    "d = collections.OrderedDict()\n",
    "d['a'] = 'A'\n",
    "d['b'] = 'B'\n",
    "d['c'] = 'C'\n",
    "\n",
    "for k, v in d.items():\n",
    "    print(k, v)\n",
    "```\n",
    "\n",
    "> Notice that in order to iterate on the dictionary, we use the same syntaxt as for **dict**\n",
    "```python\n",
    "for k, v in d.items():\n",
    "```\n",
    "\n",
    "Because of keeping track of the insertion order, comparing two **OrderedDict** is little bit subtle:\n",
    "\n",
    "```python\n",
    "print('dict       :', end=' ')\n",
    "d1 = {}\n",
    "d1['a'] = 'A'\n",
    "d1['b'] = 'B'\n",
    "d1['c'] = 'C'\n",
    "\n",
    "d2 = {}\n",
    "d2['c'] = 'C'\n",
    "d2['b'] = 'B'\n",
    "d2['a'] = 'A'\n",
    "\n",
    "print(d1 == d2)\n",
    "\n",
    "print('OrderedDict:', end=' ')\n",
    "\n",
    "d1 = collections.OrderedDict()\n",
    "d1['a'] = 'A'\n",
    "d1['b'] = 'B'\n",
    "d1['c'] = 'C'\n",
    "\n",
    "d2 = collections.OrderedDict()\n",
    "d2['c'] = 'C'\n",
    "d2['b'] = 'B'\n",
    "d2['a'] = 'A'\n",
    "\n",
    "print(d1 == d2)\n",
    "```\n",
    "\n",
    "which produces:\n",
    "\n",
    "```shell\n",
    "dict: True\n",
    "OrderedDict: False\n",
    "```"
   ]
  },
  {
   "cell_type": "markdown",
   "metadata": {},
   "source": [
    "### array : Sequence of Fixed-Type Data"
   ]
  },
  {
   "cell_type": "markdown",
   "metadata": {},
   "source": []
  },
  {
   "cell_type": "markdown",
   "metadata": {},
   "source": [
    "### heapq : Heap Sort Algorithm"
   ]
  },
  {
   "cell_type": "markdown",
   "metadata": {},
   "source": []
  },
  {
   "cell_type": "markdown",
   "metadata": {},
   "source": [
    "### bisect : Maintaint Lists in Sorted Order"
   ]
  },
  {
   "cell_type": "markdown",
   "metadata": {},
   "source": []
  },
  {
   "cell_type": "markdown",
   "metadata": {},
   "source": [
    "### queue : Thread-Safe FIFO Implementation"
   ]
  },
  {
   "cell_type": "markdown",
   "metadata": {},
   "source": []
  },
  {
   "cell_type": "markdown",
   "metadata": {},
   "source": [
    "### struct : Binary Data Structures"
   ]
  },
  {
   "cell_type": "markdown",
   "metadata": {},
   "source": []
  },
  {
   "cell_type": "markdown",
   "metadata": {},
   "source": [
    "### weakref : Impermanent References to Objects"
   ]
  },
  {
   "cell_type": "markdown",
   "metadata": {},
   "source": []
  },
  {
   "cell_type": "markdown",
   "metadata": {},
   "source": [
    "### copy : Duplicate Objects"
   ]
  },
  {
   "cell_type": "markdown",
   "metadata": {},
   "source": []
  },
  {
   "cell_type": "markdown",
   "metadata": {},
   "source": [
    "### pprint : Pretty-Print Data Structures"
   ]
  },
  {
   "cell_type": "markdown",
   "metadata": {},
   "source": []
  },
  {
   "cell_type": "markdown",
   "metadata": {},
   "source": [
    "## Text"
   ]
  },
  {
   "cell_type": "markdown",
   "metadata": {},
   "source": [
    "### string : Text Constants and Templates"
   ]
  },
  {
   "cell_type": "markdown",
   "metadata": {},
   "source": []
  },
  {
   "cell_type": "markdown",
   "metadata": {},
   "source": [
    "### textwrap : Formatting Text Paragraphs"
   ]
  },
  {
   "cell_type": "markdown",
   "metadata": {},
   "source": []
  },
  {
   "cell_type": "markdown",
   "metadata": {},
   "source": [
    "### re : Regular Expressions"
   ]
  },
  {
   "cell_type": "markdown",
   "metadata": {},
   "source": []
  },
  {
   "cell_type": "markdown",
   "metadata": {},
   "source": [
    "### difflib : Compare Sequences"
   ]
  },
  {
   "cell_type": "markdown",
   "metadata": {},
   "source": []
  },
  {
   "cell_type": "markdown",
   "metadata": {},
   "source": [
    "## Dates and Times"
   ]
  },
  {
   "cell_type": "markdown",
   "metadata": {},
   "source": [
    "### time : Clock Time"
   ]
  },
  {
   "cell_type": "markdown",
   "metadata": {},
   "source": []
  },
  {
   "cell_type": "markdown",
   "metadata": {},
   "source": [
    "### datetime : Date and Time Value Manipulation"
   ]
  },
  {
   "cell_type": "markdown",
   "metadata": {},
   "source": []
  },
  {
   "cell_type": "markdown",
   "metadata": {},
   "source": [
    "### calendar : Work with Dates"
   ]
  },
  {
   "cell_type": "markdown",
   "metadata": {},
   "source": []
  },
  {
   "cell_type": "markdown",
   "metadata": {},
   "source": [
    "## Mathematics"
   ]
  },
  {
   "cell_type": "markdown",
   "metadata": {},
   "source": [
    "### decimal : Fixed and Floating-Point Math"
   ]
  },
  {
   "cell_type": "markdown",
   "metadata": {},
   "source": []
  },
  {
   "cell_type": "markdown",
   "metadata": {},
   "source": [
    "### fractions : Rational Numbers"
   ]
  },
  {
   "cell_type": "markdown",
   "metadata": {},
   "source": []
  },
  {
   "cell_type": "markdown",
   "metadata": {},
   "source": [
    "### random : Pseudorandom Number Generators"
   ]
  },
  {
   "cell_type": "markdown",
   "metadata": {},
   "source": []
  },
  {
   "cell_type": "markdown",
   "metadata": {},
   "source": [
    "### math : Mathematical Functions"
   ]
  },
  {
   "cell_type": "markdown",
   "metadata": {},
   "source": []
  },
  {
   "cell_type": "markdown",
   "metadata": {},
   "source": [
    "## Algorithms"
   ]
  },
  {
   "cell_type": "markdown",
   "metadata": {},
   "source": [
    "### functools : Tools for Manipulating Functions"
   ]
  },
  {
   "cell_type": "markdown",
   "metadata": {},
   "source": []
  },
  {
   "cell_type": "markdown",
   "metadata": {},
   "source": [
    "### itertools : Iterator Functions"
   ]
  },
  {
   "cell_type": "markdown",
   "metadata": {},
   "source": []
  },
  {
   "cell_type": "markdown",
   "metadata": {},
   "source": [
    "### operator : Functional interface to Built-in Operators"
   ]
  },
  {
   "cell_type": "markdown",
   "metadata": {},
   "source": []
  },
  {
   "cell_type": "markdown",
   "metadata": {},
   "source": [
    "### contextlib : Context manager Utilities"
   ]
  },
  {
   "cell_type": "markdown",
   "metadata": {},
   "source": []
  },
  {
   "cell_type": "markdown",
   "metadata": {},
   "source": [
    "## The File System"
   ]
  },
  {
   "cell_type": "markdown",
   "metadata": {},
   "source": [
    "### os.path : Platform-Independent manipulation of Filenames"
   ]
  },
  {
   "cell_type": "markdown",
   "metadata": {},
   "source": []
  },
  {
   "cell_type": "markdown",
   "metadata": {},
   "source": [
    "### glob : Filename Pattern Matching"
   ]
  },
  {
   "cell_type": "markdown",
   "metadata": {},
   "source": []
  },
  {
   "cell_type": "markdown",
   "metadata": {},
   "source": [
    "### linecache : Read Text Files Efficiently"
   ]
  },
  {
   "cell_type": "markdown",
   "metadata": {},
   "source": []
  },
  {
   "cell_type": "markdown",
   "metadata": {},
   "source": [
    "### tempfile : Temporary File System Objects"
   ]
  },
  {
   "cell_type": "markdown",
   "metadata": {},
   "source": []
  },
  {
   "cell_type": "markdown",
   "metadata": {},
   "source": [
    "### shutil : High-Level File Operations"
   ]
  },
  {
   "cell_type": "markdown",
   "metadata": {},
   "source": []
  },
  {
   "cell_type": "markdown",
   "metadata": {},
   "source": [
    "### mmap : Memory-Map Files"
   ]
  },
  {
   "cell_type": "markdown",
   "metadata": {},
   "source": []
  },
  {
   "cell_type": "markdown",
   "metadata": {},
   "source": [
    "### codecs : String Encoding and Decoding"
   ]
  },
  {
   "cell_type": "markdown",
   "metadata": {},
   "source": []
  },
  {
   "cell_type": "markdown",
   "metadata": {},
   "source": [
    "### StringIO : Text Buffers with a File-like API"
   ]
  },
  {
   "cell_type": "markdown",
   "metadata": {},
   "source": []
  },
  {
   "cell_type": "markdown",
   "metadata": {},
   "source": [
    "### fnmatch : UNIX-Style Directory Listings"
   ]
  },
  {
   "cell_type": "markdown",
   "metadata": {},
   "source": []
  },
  {
   "cell_type": "markdown",
   "metadata": {},
   "source": [
    "### dircache : Cache Directory Listings"
   ]
  },
  {
   "cell_type": "markdown",
   "metadata": {},
   "source": []
  },
  {
   "cell_type": "markdown",
   "metadata": {},
   "source": [
    "### filecmp : Compare Files"
   ]
  },
  {
   "cell_type": "markdown",
   "metadata": {},
   "source": []
  },
  {
   "cell_type": "markdown",
   "metadata": {},
   "source": []
  },
  {
   "cell_type": "markdown",
   "metadata": {},
   "source": []
  },
  {
   "cell_type": "markdown",
   "metadata": {},
   "source": []
  },
  {
   "cell_type": "markdown",
   "metadata": {},
   "source": []
  },
  {
   "cell_type": "markdown",
   "metadata": {},
   "source": []
  },
  {
   "cell_type": "markdown",
   "metadata": {},
   "source": []
  },
  {
   "cell_type": "markdown",
   "metadata": {},
   "source": []
  },
  {
   "cell_type": "markdown",
   "metadata": {},
   "source": []
  },
  {
   "cell_type": "markdown",
   "metadata": {},
   "source": []
  },
  {
   "cell_type": "markdown",
   "metadata": {},
   "source": []
  },
  {
   "cell_type": "markdown",
   "metadata": {},
   "source": []
  },
  {
   "cell_type": "markdown",
   "metadata": {},
   "source": []
  },
  {
   "cell_type": "code",
   "execution_count": 3,
   "metadata": {},
   "outputs": [
    {
     "data": {
      "text/html": [
       "<link href='http://fonts.googleapis.com/css?family=Fenix' rel='stylesheet' type='text/css'>\n",
       "<link href='http://fonts.googleapis.com/css?family=Alegreya+Sans:100,300,400,500,700,800,900,100italic,300italic,400italic,500italic,700italic,800italic,900italic' rel='stylesheet' type='text/css'>\n",
       "<link href='http://fonts.googleapis.com/css?family=Source+Code+Pro:300,400' rel='stylesheet' type='text/css'>\n",
       "<style>\n",
       "    @font-face {\n",
       "        font-family: \"Computer Modern\";\n",
       "        src: url('http://mirrors.ctan.org/fonts/cm-unicode/fonts/otf/cmunss.otf');\n",
       "    }\n",
       "    div.cell{\n",
       "        width:600px;\n",
       "        margin-left:16% !important;\n",
       "        margin-right:auto;\n",
       "    }\n",
       "    h1 {\n",
       "        font-family: 'Alegreya Sans', sans-serif;\n",
       "    }\n",
       "    h2 {\n",
       "        font-family: 'Fenix', serif;\n",
       "    }\n",
       "    h3{\n",
       "\t\tfont-family: 'Fenix', serif;\n",
       "        margin-top:12px;\n",
       "        margin-bottom: 3px;\n",
       "       }\n",
       "\th4{\n",
       "\t\tfont-family: 'Fenix', serif;\n",
       "       }\n",
       "    h5 {\n",
       "        font-family: 'Alegreya Sans', sans-serif;\n",
       "    }\t   \n",
       "    div.text_cell_render{\n",
       "        font-family: 'Alegreya Sans',Computer Modern, \"Helvetica Neue\", Arial, Helvetica, Geneva, sans-serif;\n",
       "        line-height: 135%;\n",
       "        font-size: 120%;\n",
       "        width:600px;\n",
       "        margin-left:auto;\n",
       "        margin-right:auto;\n",
       "    }\n",
       "    .CodeMirror{\n",
       "            font-family: \"Source Code Pro\";\n",
       "\t\t\tfont-size: 90%;\n",
       "    }\n",
       "/*    .prompt{\n",
       "        display: None;\n",
       "    }*/\n",
       "    .text_cell_render h1 {\n",
       "        font-weight: 200;\n",
       "        font-size: 50pt;\n",
       "\t\tline-height: 100%;\n",
       "        color:#054BCD;\n",
       "        margin-bottom: 0.5em;\n",
       "        margin-top: 0.5em;\n",
       "        display: block;\n",
       "    }\t\n",
       "    .text_cell_render h5 {\n",
       "        font-weight: 300;\n",
       "        font-size: 16pt;\n",
       "        color: #054BCD;\n",
       "        font-style: italic;\n",
       "        margin-bottom: .5em;\n",
       "        margin-top: 0.5em;\n",
       "        display: block;\n",
       "    }\n",
       "    \n",
       "    .warning{\n",
       "        color: rgb( 240, 20, 20 )\n",
       "        }  \n",
       "</style>\n",
       "<script>\n",
       "    MathJax.Hub.Config({\n",
       "                        TeX: {\n",
       "                           extensions: [\"AMSmath.js\"]\n",
       "                           },\n",
       "                tex2jax: {\n",
       "                    inlineMath: [ ['$','$'], [\"\\\\(\",\"\\\\)\"] ],\n",
       "                    displayMath: [ ['$$','$$'], [\"\\\\[\",\"\\\\]\"] ]\n",
       "                },\n",
       "                displayAlign: 'center', // Change this to 'center' to center equations.\n",
       "                \"HTML-CSS\": {\n",
       "                    styles: {'.MathJax_Display': {\"margin\": 4}}\n",
       "                }\n",
       "        });\n",
       "</script>\n"
      ],
      "text/plain": [
       "<IPython.core.display.HTML object>"
      ]
     },
     "execution_count": 3,
     "metadata": {},
     "output_type": "execute_result"
    }
   ],
   "source": [
    "# css style\n",
    "from IPython.core.display import HTML\n",
    "def css_styling():\n",
    "    styles = open(\"../styles/custom.css\", \"r\").read()\n",
    "    return HTML(styles)\n",
    "css_styling()"
   ]
  },
  {
   "cell_type": "code",
   "execution_count": null,
   "metadata": {},
   "outputs": [],
   "source": []
  }
 ],
 "metadata": {
  "kernelspec": {
   "display_name": "Python 3",
   "language": "python",
   "name": "python3"
  },
  "language_info": {
   "codemirror_mode": {
    "name": "ipython",
    "version": 3
   },
   "file_extension": ".py",
   "mimetype": "text/x-python",
   "name": "python",
   "nbconvert_exporter": "python",
   "pygments_lexer": "ipython3",
   "version": "3.6.9"
  }
 },
 "nbformat": 4,
 "nbformat_minor": 4
}
